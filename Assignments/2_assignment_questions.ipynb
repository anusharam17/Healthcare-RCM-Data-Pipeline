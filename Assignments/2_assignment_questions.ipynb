{
  "cells": [
    {
      "cell_type": "markdown",
      "id": "t_EDGnqdYJSX",
      "metadata": {
        "id": "t_EDGnqdYJSX"
      },
      "source": [
        "# Module 2: Control Flow Assignments\n",
        "## Lesson 2.1: Conditional Statements"
      ]
    },
    {
      "cell_type": "markdown",
      "id": "nc4uyzeOX_Ua",
      "metadata": {
        "id": "nc4uyzeOX_Ua"
      },
      "source": [
        "### Assignment 1: Simple if Statement\n",
        "\n",
        "Write a program that asks the user to input a number and prints whether the number is positive."
      ]
    },
    {
      "cell_type": "code",
      "execution_count": null,
      "id": "1f71SE04YAzG",
      "metadata": {
        "colab": {
          "base_uri": "https://localhost:8080/"
        },
        "id": "1f71SE04YAzG",
        "outputId": "70aece48-b12d-45a9-fb15-832e89a953b8"
      },
      "outputs": [
        {
          "name": "stdout",
          "output_type": "stream",
          "text": [
            "Enter a number: 17\n",
            "Positive\n"
          ]
        }
      ],
      "source": [
        "# your code here\n",
        "num = int(input(\"Enter a number: \"))\n",
        "if num > 0:\n",
        "    print(\"Positive\")"
      ]
    },
    {
      "cell_type": "markdown",
      "id": "6MIuZhEAYNTS",
      "metadata": {
        "id": "6MIuZhEAYNTS"
      },
      "source": [
        "### Assignment 2: if-else Statement\n",
        "\n",
        "Write a program that asks the user to input a number and prints whether the number is positive or negative."
      ]
    },
    {
      "cell_type": "code",
      "execution_count": null,
      "id": "mu870IIRYRSu",
      "metadata": {
        "colab": {
          "base_uri": "https://localhost:8080/"
        },
        "id": "mu870IIRYRSu",
        "outputId": "18c1fe85-310e-4f3a-cde4-edcbc148d853"
      },
      "outputs": [
        {
          "name": "stdout",
          "output_type": "stream",
          "text": [
            "Enter a number: -15\n",
            "Negative\n"
          ]
        }
      ],
      "source": [
        "# your code here\n",
        "num = int(input(\"Enter a number: \"))\n",
        "if num > 0:\n",
        "    print(\"Positive\")\n",
        "else:\n",
        "    print(\"Negative\")"
      ]
    },
    {
      "cell_type": "markdown",
      "id": "dSYR5PFTc2kX",
      "metadata": {
        "id": "dSYR5PFTc2kX"
      },
      "source": [
        "### Assignment 3: if-elif-else Statement\n",
        "\n",
        "Write a program that asks the user to input a number and prints whether the number is positive, negative, or zero."
      ]
    },
    {
      "cell_type": "code",
      "execution_count": null,
      "id": "vAUUndrFXiq8",
      "metadata": {
        "colab": {
          "base_uri": "https://localhost:8080/"
        },
        "id": "vAUUndrFXiq8",
        "outputId": "e46dbdfa-fc5c-4009-fd65-02e947dcd083"
      },
      "outputs": [
        {
          "name": "stdout",
          "output_type": "stream",
          "text": [
            "Enter a number: 77\n",
            "Positive\n"
          ]
        }
      ],
      "source": [
        "num = int(input(\"Enter a number: \"))\n",
        "if num > 0:\n",
        "    print(\"Positive\")\n",
        "elif num < 0:\n",
        "    print(\"Negative\")\n",
        "else:\n",
        "    print(\"Zero\")"
      ]
    },
    {
      "cell_type": "markdown",
      "id": "j0X8EcaxeXpi",
      "metadata": {
        "id": "j0X8EcaxeXpi"
      },
      "source": [
        "### Assignment 4: Nested if Statement\n",
        "\n",
        "Write a program that asks the user to input a number and prints whether the number is positive and even, positive and odd, or negative."
      ]
    },
    {
      "cell_type": "code",
      "execution_count": null,
      "id": "7V6a_yOiehmn",
      "metadata": {
        "id": "7V6a_yOiehmn"
      },
      "outputs": [],
      "source": [
        "num = int(input(\"Enter a number: \"))\n",
        "if num > 0:\n",
        "    if num % 2 == 0:\n",
        "        print(\"Positive and even\")\n",
        "    else:\n",
        "        print(\"Positive and odd\")\n",
        "else:\n",
        "    print(\"Negative\")"
      ]
    },
    {
      "cell_type": "markdown",
      "id": "ACxk4D0TXiq4",
      "metadata": {
        "id": "ACxk4D0TXiq4"
      },
      "source": [
        "## Lesson 2.2: Loops\n",
        "### Assignment 5: for Loop\n",
        "\n",
        "Write a program that prints all the numbers from 1 to 10 using a for loop."
      ]
    },
    {
      "cell_type": "code",
      "execution_count": null,
      "id": "lD2U_rBeeTa1",
      "metadata": {
        "colab": {
          "base_uri": "https://localhost:8080/"
        },
        "id": "lD2U_rBeeTa1",
        "outputId": "8e99dfdb-f673-4be7-fff5-588c01bbdb8d"
      },
      "outputs": [
        {
          "name": "stdout",
          "output_type": "stream",
          "text": [
            "Enter a number: 10\n",
            "1\n",
            "2\n",
            "3\n",
            "4\n",
            "5\n",
            "6\n",
            "7\n",
            "8\n",
            "9\n",
            "10\n"
          ]
        }
      ],
      "source": [
        "num = int(input(\"Enter a number: \"))\n",
        "for i in range(1, num + 1):\n",
        "    print(i)"
      ]
    },
    {
      "cell_type": "markdown",
      "id": "RZAAdWF1hLV1",
      "metadata": {
        "id": "RZAAdWF1hLV1"
      },
      "source": [
        "### Assignment 6: while Loop\n",
        "\n",
        "Write a program that prints all the numbers from 1 to 10 using a while loop."
      ]
    },
    {
      "cell_type": "code",
      "execution_count": null,
      "id": "dHrfX--DhI2H",
      "metadata": {
        "colab": {
          "base_uri": "https://localhost:8080/"
        },
        "id": "dHrfX--DhI2H",
        "outputId": "91c83c9b-7376-45b3-feaf-7556f858ae08"
      },
      "outputs": [
        {
          "name": "stdout",
          "output_type": "stream",
          "text": [
            "Enter a number: 10\n",
            "1\n",
            "2\n",
            "3\n",
            "4\n",
            "5\n",
            "6\n",
            "7\n",
            "8\n",
            "9\n",
            "10\n"
          ]
        }
      ],
      "source": [
        "num = int(input(\"Enter a number: \"))\n",
        "i = 1\n",
        "while i <= num:\n",
        "    print(i)\n",
        "    i += 1"
      ]
    },
    {
      "cell_type": "markdown",
      "id": "pOeD4kemnUsJ",
      "metadata": {
        "id": "pOeD4kemnUsJ"
      },
      "source": [
        "### Assignment 7: Nested Loops\n",
        "\n",
        "Write a program that prints a 5x5 grid of asterisks (*) using nested loops."
      ]
    },
    {
      "cell_type": "code",
      "execution_count": null,
      "id": "0TUiR_zvnNxK",
      "metadata": {
        "colab": {
          "base_uri": "https://localhost:8080/"
        },
        "id": "0TUiR_zvnNxK",
        "outputId": "c558f700-912b-4055-c7ab-b571a4a36a4d"
      },
      "outputs": [
        {
          "name": "stdout",
          "output_type": "stream",
          "text": [
            "Enter a Number of Rows:5\n",
            "* * * * * \n",
            "* * * * * \n",
            "* * * * * \n",
            "* * * * * \n",
            "* * * * * \n"
          ]
        }
      ],
      "source": [
        "num = int(input(\"Enter a Number of Rows:\"))\n",
        "for i in range(1, num + 1):\n",
        "    for j in range(1, num + 1):\n",
        "        if j <= i:\n",
        "            print(\"*\", end=' ')\n",
        "        else:\n",
        "            print(\"*\", end=' ')\n",
        "    print()\n"
      ]
    },
    {
      "cell_type": "markdown",
      "id": "v63gEOqxvStM",
      "metadata": {
        "id": "v63gEOqxvStM"
      },
      "source": [
        "### Assignment 8: break Statement\n",
        "\n",
        "Write a program that asks the user to input numbers until they input 0. The program should print the sum of all the input numbers."
      ]
    },
    {
      "cell_type": "code",
      "execution_count": null,
      "id": "OrmFmsd5tkuQ",
      "metadata": {
        "colab": {
          "base_uri": "https://localhost:8080/"
        },
        "id": "OrmFmsd5tkuQ",
        "outputId": "e9e3ff5e-34b9-4935-f734-47c114fa3c6f"
      },
      "outputs": [
        {
          "name": "stdout",
          "output_type": "stream",
          "text": [
            "Enter a number: 45\n",
            "Enter a number: 17\n",
            "Enter a number: 18\n",
            "Enter a number: 0\n",
            "Sum: 80\n"
          ]
        }
      ],
      "source": [
        "sum = 0\n",
        "while True:\n",
        "    num = int(input(\"Enter a number: \"))\n",
        "    if num == 0:\n",
        "        break\n",
        "    sum += num\n",
        "print(\"Sum:\", sum)"
      ]
    },
    {
      "cell_type": "markdown",
      "id": "46BR4GUqcqSn",
      "metadata": {
        "id": "46BR4GUqcqSn"
      },
      "source": [
        "### Assignment 9: continue Statement\n",
        "\n",
        "Write a program that prints all the numbers from 1 to 10 except 5 using a for loop and continue statement."
      ]
    },
    {
      "cell_type": "code",
      "execution_count": null,
      "id": "3qztUVKrxIbe",
      "metadata": {
        "colab": {
          "base_uri": "https://localhost:8080/"
        },
        "id": "3qztUVKrxIbe",
        "outputId": "a1e2c976-9c67-4f79-c97b-ab0def996878"
      },
      "outputs": [
        {
          "name": "stdout",
          "output_type": "stream",
          "text": [
            "Enter a number: 10\n",
            "1\n",
            "2\n",
            "3\n",
            "4\n",
            "6\n",
            "7\n",
            "8\n",
            "9\n",
            "10\n"
          ]
        }
      ],
      "source": [
        "num = int(input(\"Enter a number: \"))\n",
        "for i in range(1, num + 1):\n",
        "    if i == 5:\n",
        "        continue\n",
        "    print(i)"
      ]
    },
    {
      "cell_type": "markdown",
      "id": "8OUz4tmTdP2A",
      "metadata": {
        "id": "8OUz4tmTdP2A"
      },
      "source": [
        "### Assignment 10: pass Statement\n",
        "\n",
        "Write a program that defines an empty function using the pass statement."
      ]
    },
    {
      "cell_type": "code",
      "execution_count": 1,
      "id": "Q9vtw2Roc0xF",
      "metadata": {
        "colab": {
          "base_uri": "https://localhost:8080/"
        },
        "id": "Q9vtw2Roc0xF",
        "outputId": "1dcea3d7-a2f0-4510-ae64-acfe3ef85c34"
      },
      "outputs": [
        {
          "name": "stdout",
          "output_type": "stream",
          "text": [
            "1\n",
            "2\n",
            "3\n",
            "4\n",
            "5\n",
            "6\n",
            "7\n"
          ]
        }
      ],
      "source": [
        "num = int(input(\"Enter a number: \"))\n",
        "for i in range(1, num + 1):\n",
        "    pass\n",
        "    print(i)"
      ]
    },
    {
      "cell_type": "markdown",
      "id": "2ca0abba",
      "metadata": {},
      "source": [
        "### Assignment 11: Combining Loops and Conditionals\n",
        "\n",
        "Write a program that asks the user to input a number and prints all the even numbers from 1 to that number using a for loop."
      ]
    },
    {
      "cell_type": "code",
      "execution_count": 2,
      "id": "aIN6Oe3_dbJR",
      "metadata": {
        "id": "aIN6Oe3_dbJR"
      },
      "outputs": [
        {
          "name": "stdout",
          "output_type": "stream",
          "text": [
            "2\n",
            "4\n",
            "6\n",
            "8\n",
            "10\n"
          ]
        }
      ],
      "source": [
        "num= int(input(\"Enter a number: \"))\n",
        "for i in range(1, num + 1):\n",
        "    if i % 2 == 0:\n",
        "        print(i)"
      ]
    },
    {
      "cell_type": "markdown",
      "id": "e597ccf1",
      "metadata": {},
      "source": [
        "### Assignment 12: Factorial Calculation\n",
        "\n",
        "Write a program that calculates the factorial of a number input by the user using a while loop."
      ]
    },
    {
      "cell_type": "code",
      "execution_count": 3,
      "id": "1c522522",
      "metadata": {},
      "outputs": [
        {
          "name": "stdout",
          "output_type": "stream",
          "text": [
            "Factorial: 355687428096000\n"
          ]
        }
      ],
      "source": [
        "num= int(input(\"Enter a number: \"))\n",
        "factorial = 1\n",
        "i = 1\n",
        "while i <= num:\n",
        "    factorial *= i\n",
        "    i += 1\n",
        "print(\"Factorial:\", factorial)"
      ]
    },
    {
      "cell_type": "markdown",
      "id": "03a76aff",
      "metadata": {},
      "source": [
        "### Assignment 13: Sum of Digits\n",
        "\n",
        "Write a program that calculates the sum of the digits of a number input by the user using a while loop."
      ]
    },
    {
      "cell_type": "code",
      "execution_count": 4,
      "id": "7ad90eb9",
      "metadata": {},
      "outputs": [
        {
          "name": "stdout",
          "output_type": "stream",
          "text": [
            "Sum of digits: 9\n"
          ]
        }
      ],
      "source": [
        "num= int(input(\"Enter a number: \"))\n",
        "sum = 0\n",
        "while num > 0:\n",
        "    digit = num % 10\n",
        "    sum += digit\n",
        "    num //= 10\n",
        "print(\"Sum of digits:\", sum)"
      ]
    },
    {
      "cell_type": "markdown",
      "id": "5dc10889",
      "metadata": {},
      "source": [
        "### Assignment 14: Prime Number Check\n",
        "\n",
        "Write a program that checks if a number input by the user is a prime number using a for loop."
      ]
    },
    {
      "cell_type": "code",
      "execution_count": 5,
      "id": "014b305a",
      "metadata": {},
      "outputs": [
        {
          "name": "stdout",
          "output_type": "stream",
          "text": [
            "Prime\n"
          ]
        }
      ],
      "source": [
        "num= int(input(\"Enter a number: \"))\n",
        "is_prime = True\n",
        "for i in range(2, num):\n",
        "    if num % i == 0:\n",
        "        is_prime = False\n",
        "        break\n",
        "if is_prime:\n",
        "    print(\"Prime\")"
      ]
    },
    {
      "cell_type": "markdown",
      "id": "6207ae3c",
      "metadata": {},
      "source": [
        "### Assignment 15: Fibonacci Sequence\n",
        "\n",
        "Write a program that prints the first n Fibonacci numbers, where n is input by the user."
      ]
    },
    {
      "cell_type": "code",
      "execution_count": 6,
      "id": "39b2797f",
      "metadata": {},
      "outputs": [
        {
          "name": "stdout",
          "output_type": "stream",
          "text": [
            "0 1 1 2 3 5 8 13 21 34 "
          ]
        }
      ],
      "source": [
        "num= int(input(\"Enter a number: \"))\n",
        "a, b = 0, 1\n",
        "for i in range(num):\n",
        "    print(a, end=\" \")\n",
        "    a, b = b, a + b\n"
      ]
    }
  ],
  "metadata": {
    "colab": {
      "provenance": []
    },
    "kernelspec": {
      "display_name": "Python 3",
      "language": "python",
      "name": "python3"
    },
    "language_info": {
      "codemirror_mode": {
        "name": "ipython",
        "version": 3
      },
      "file_extension": ".py",
      "mimetype": "text/x-python",
      "name": "python",
      "nbconvert_exporter": "python",
      "pygments_lexer": "ipython3",
      "version": "3.9.6"
    }
  },
  "nbformat": 4,
  "nbformat_minor": 5
}
