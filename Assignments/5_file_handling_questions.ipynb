{
 "cells": [
  {
   "cell_type": "markdown",
   "id": "de8202b9",
   "metadata": {},
   "source": [
    "# Module: File Handling Assignments\n",
    "## Lesson: File Handling and Operations\n",
    "### Assignment 1: Reading a File\n",
    "\n",
    "Write a function that reads the contents of a file named `sample.txt` and prints each line."
   ]
  },
  {
   "cell_type": "code",
   "execution_count": null,
   "metadata": {},
   "outputs": [
    {
     "name": "stdout",
     "output_type": "stream",
     "text": [
      "Hello, World!.\n",
      "This is File Handling.\n",
      "\n"
     ]
    }
   ],
   "source": [
    "def read_file_lines():\n",
    "    try:\n",
    "        with open('files/sample.txt', 'r') as file:\n",
    "            for line in file:\n",
    "                print(line.strip())  \n",
    "    except FileNotFoundError:\n",
    "        print(\"The file 'sample.txt' was not found.\")\n",
    "read_file_lines()\n"
   ]
  },
  {
   "cell_type": "markdown",
   "id": "af362439",
   "metadata": {},
   "source": [
    "### Assignment 2: Writing to a File\n",
    "\n",
    "Write a function that writes a list of strings to a file named `output.txt`, with each string on a new line."
   ]
  },
  {
   "cell_type": "code",
   "execution_count": null,
   "id": "5a5ecb1a",
   "metadata": {},
   "outputs": [],
   "source": [
    "def write_file(strings):\n",
    "    with open('files/output.txt', 'w') as file:\n",
    "        for line in strings:\n",
    "            file.write(line + '\\n')\n",
    "\n",
    "lines = [\"Hello, world!\", \"Python is great.\", ]\n",
    "write_file(lines)"
   ]
  },
  {
   "cell_type": "markdown",
   "id": "192f6034",
   "metadata": {},
   "source": [
    "### Assignment 3: Copying a File\n",
    "\n",
    "Write a function that copies the contents of a file named `source.txt` to a new file named `destination.txt`."
   ]
  },
  {
   "cell_type": "code",
   "execution_count": null,
   "id": "2f785826",
   "metadata": {},
   "outputs": [
    {
     "name": "stdout",
     "output_type": "stream",
     "text": [
      "File copied successfully.\n"
     ]
    }
   ],
   "source": [
    "def copy_file():\n",
    "    try:\n",
    "        with open('files/source.txt', 'r') as src, open('files/destination.txt', 'w') as dest:\n",
    "            for line in src:\n",
    "                dest.write(line)\n",
    "        print(\"File copied successfully.\")\n",
    "    except FileNotFoundError:\n",
    "        print(\"The source file 'source.txt' was not found.\")\n",
    "    except IOError as e:\n",
    "        print(f\"An error occurred: {e}\")\n",
    "\n",
    "copy_file()\n"
   ]
  },
  {
   "cell_type": "markdown",
   "id": "f4e4ba83",
   "metadata": {},
   "source": [
    "### Assignment 4: Appending to a File\n",
    "\n",
    "Write a function that appends a given string to the end of a file named `log.txt`."
   ]
  },
  {
   "cell_type": "code",
   "execution_count": null,
   "id": "f8be0903",
   "metadata": {},
   "outputs": [],
   "source": [
    "def append_func(text):\n",
    "    with open('files/log.txt', 'a') as file:\n",
    "        file.write(text + '\\n')\n",
    "\n",
    "append_func(\"This is the second code.\")\n"
   ]
  },
  {
   "cell_type": "markdown",
   "id": "65222d6e",
   "metadata": {},
   "source": [
    "### Assignment 5: Counting Words in a File\n",
    "\n",
    "Write a function that reads the contents of a file named `document.txt` and returns the number of words in the file."
   ]
  },
  {
   "cell_type": "code",
   "execution_count": null,
   "id": "09c62441",
   "metadata": {},
   "outputs": [
    {
     "name": "stdout",
     "output_type": "stream",
     "text": [
      "12\n"
     ]
    }
   ],
   "source": [
    "def read_func():\n",
    "    with open('files/document.txt', 'r') as file:\n",
    "        content = file.read()\n",
    "        words = content.split()\n",
    "        print(len(words))\n",
    "\n",
    "\n",
    "read_func()"
   ]
  },
  {
   "cell_type": "markdown",
   "id": "6bd0da0f",
   "metadata": {},
   "source": [
    "### Assignment 6: Finding and Replacing Text\n",
    "\n",
    "Write a function that finds and replaces all occurrences of a given word in a file named `data.txt` with another word."
   ]
  },
  {
   "cell_type": "code",
   "execution_count": null,
   "id": "05957ebc",
   "metadata": {},
   "outputs": [],
   "source": [
    "def find_replace(old_word, new_word):\n",
    "    with open('files/data.txt', 'r') as file:\n",
    "        content = file.read()\n",
    "    \n",
    "    updated = content.replace(old_word, new_word)\n",
    "    \n",
    "    with open('files/data.txt', 'w') as file:\n",
    "        file.write(updated)\n",
    "\n",
    "find_replace('oldword', 'newword')\n"
   ]
  },
  {
   "cell_type": "markdown",
   "id": "cdfb75d8",
   "metadata": {},
   "source": [
    "### Assignment 7: Reading a File in Reverse\n",
    "\n",
    "Write a function that reads the contents of a file named `reverse.txt` and prints each line in reverse order.\n"
   ]
  },
  {
   "cell_type": "code",
   "execution_count": null,
   "id": "e87a0805",
   "metadata": {},
   "outputs": [
    {
     "name": "stdout",
     "output_type": "stream",
     "text": [
      "This will read the file in reverse order.\n",
      "This will read the line in the file\n"
     ]
    }
   ],
   "source": [
    "def print_reversed():\n",
    "    with open('files/reverse.txt', 'r') as file:\n",
    "        lines = file.readlines()\n",
    "        for line in reversed(lines):\n",
    "            print(line.strip())\n",
    "\n",
    "\n",
    "print_reversed()"
   ]
  },
  {
   "cell_type": "markdown",
   "id": "96463819",
   "metadata": {},
   "source": [
    "### Assignment 8: Counting Lines, Words, and Characters\n",
    "\n",
    "Write a function that reads the contents of a file named `stats.txt` and returns the number of lines, words, and characters in the file."
   ]
  },
  {
   "cell_type": "code",
   "execution_count": null,
   "id": "0214bbea",
   "metadata": {},
   "outputs": [
    {
     "name": "stdout",
     "output_type": "stream",
     "text": [
      "Lines: 2\n",
      "Words: 13\n",
      "Characters: 73\n"
     ]
    }
   ],
   "source": [
    "def file_stats():\n",
    "    with open('files/stats.txt', 'r') as file:\n",
    "        lines = file.readlines()\n",
    "        num_lines = len(lines)\n",
    "        num_words = sum(len(line.split()) for line in lines)\n",
    "        num_chars = sum(len(line) for line in lines)\n",
    "        return num_lines, num_words, num_chars\n",
    "\n",
    "lines, words, chars = file_stats()\n",
    "print(\"Lines:\", lines)\n",
    "print(\"Words:\", words)\n",
    "print(\"Characters:\", chars)\n"
   ]
  },
  {
   "cell_type": "markdown",
   "id": "67fd25f2",
   "metadata": {},
   "source": [
    "### Assignment 9: Merging Multiple Files\n",
    "\n",
    "Write a function that merges the contents of multiple files into a single file named `merged.txt`."
   ]
  },
  {
   "cell_type": "code",
   "execution_count": null,
   "id": "d7531da5",
   "metadata": {},
   "outputs": [],
   "source": [
    "def merge_files(file_list):\n",
    "    with open('files/merged.txt', 'w') as merged:\n",
    "        for file in file_list:\n",
    "            with open(file, 'r') as f:\n",
    "                merged.write(f.read())\n",
    "\n",
    "\n",
    "merge_files(['files/sample.txt', 'files/stats.txt'])\n"
   ]
  },
  {
   "cell_type": "markdown",
   "id": "9e84704c",
   "metadata": {},
   "source": [
    "### Assignment 10: Splitting a Large File\n",
    "\n",
    "Write a function that splits a large file named `large.txt` into smaller files of 100 lines each.\n"
   ]
  },
  {
   "cell_type": "code",
   "execution_count": null,
   "id": "50632baa",
   "metadata": {},
   "outputs": [],
   "source": [
    "with open('files/large.txt', 'w') as file:\n",
    "    for i in range(1, 251):\n",
    "        file.write(f\"This is line {i}\\n\")"
   ]
  },
  {
   "cell_type": "code",
   "execution_count": null,
   "id": "a1eea73e",
   "metadata": {},
   "outputs": [],
   "source": [
    "def split_func():\n",
    "    with open('files/large.txt', 'r') as file:\n",
    "        lines = file.readlines()\n",
    "    \n",
    "    for i in range(0, len(lines), 100):\n",
    "        part = lines[i:i+100]\n",
    "        with open(f'part_{i//100 + 1}.txt', 'w') as f:\n",
    "            f.writelines(part)\n",
    "\n",
    "\n",
    "split_func()\n"
   ]
  },
  {
   "cell_type": "markdown",
   "id": "7db0f1fd",
   "metadata": {},
   "source": [
    "### Assignment 11: Creating a Log File\n",
    "\n",
    "Write a function that creates a log file named `activity.log` and writes log messages with timestamps.\n",
    "\n"
   ]
  },
  {
   "cell_type": "code",
   "execution_count": 17,
   "id": "48a2d7b3",
   "metadata": {},
   "outputs": [],
   "source": [
    "from datetime import datetime\n",
    "\n",
    "def write_log(message):\n",
    "    with open('activity.log', 'a') as log_file:\n",
    "        timestamp = datetime.now().strftime('%Y-%m-%d %H:%M:%S')\n",
    "        log_file.write(f\"[{timestamp}] {message}\\n\")\n",
    "\n",
    "write_log(\"Program started.\")\n",
    "write_log(\"Processed successfully.\")\n",
    "write_log(\"Program ended.\")"
   ]
  },
  {
   "cell_type": "markdown",
   "id": "4362cddc",
   "metadata": {},
   "source": [
    "### Assignment 12: Binary File Operations\n",
    "\n",
    "Write a function that reads a binary file named `image.bin` and writes its contents to another binary file named `copy_image.bin`.\n"
   ]
  },
  {
   "cell_type": "code",
   "execution_count": null,
   "id": "5198d7fa",
   "metadata": {},
   "outputs": [],
   "source": [
    "def copy_binary_func():\n",
    "    with open('image.bin', 'rb') as source:\n",
    "        data = source.read()\n",
    "    with open('copy_image.bin', 'wb') as destination:\n",
    "        destination.write(data)\n",
    "\n",
    "copy_binary_func()\n"
   ]
  },
  {
   "cell_type": "markdown",
   "id": "95b7dfef",
   "metadata": {},
   "source": [
    "\n",
    "### Assignment 13: CSV File Operations\n",
    "\n",
    "Write a function that reads a CSV file named `data.csv` and prints its contents as a list of dictionaries.\n",
    "\n"
   ]
  },
  {
   "cell_type": "code",
   "execution_count": 36,
   "id": "b452403f",
   "metadata": {},
   "outputs": [
    {
     "name": "stdout",
     "output_type": "stream",
     "text": [
      "[{'name': 'Alice', 'age': '25', 'city': 'New York'}, {'name': 'Bob', 'age': '30', 'city': 'Los Angeles'}, {'name': 'Charlie', 'age': '22', 'city': 'Chicago'}]\n"
     ]
    }
   ],
   "source": [
    "import csv\n",
    "\n",
    "def read_csv():\n",
    "    with open('data.csv', 'r') as file:\n",
    "        reader = csv.DictReader(file)\n",
    "        data = list(reader)\n",
    "        print(data)\n",
    "\n",
    "\n",
    "read_csv()\n"
   ]
  },
  {
   "cell_type": "markdown",
   "id": "8944b0c2",
   "metadata": {},
   "source": [
    "### Assignment 14: JSON File Operations\n",
    "\n",
    "Write a function that reads a JSON file named `data.json` and prints its contents as a Python dictionary.\n"
   ]
  },
  {
   "cell_type": "code",
   "execution_count": null,
   "id": "1c47b3ef",
   "metadata": {},
   "outputs": [
    {
     "name": "stdout",
     "output_type": "stream",
     "text": [
      "{'name': 'Anusha', 'age': 21, 'city': 'India'}\n"
     ]
    }
   ],
   "source": [
    "import json\n",
    "\n",
    "def read_json():\n",
    "    with open('data.json', 'r') as file:\n",
    "        data = json.load(file)\n",
    "        print(data)\n",
    "\n",
    "read_json()\n"
   ]
  },
  {
   "cell_type": "markdown",
   "id": "50b8e89c",
   "metadata": {},
   "source": [
    "### Assignment 15: File Permission Handling\n",
    "\n",
    "Write a function that attempts to read a file named `protected.txt` and handles any permission errors gracefully by printing an error message."
   ]
  },
  {
   "cell_type": "code",
   "execution_count": 23,
   "id": "faf1f7c7",
   "metadata": {},
   "outputs": [
    {
     "name": "stdout",
     "output_type": "stream",
     "text": [
      "File not found: 'protected.txt' does not exist.\n"
     ]
    }
   ],
   "source": [
    "def read_func():\n",
    "    try:\n",
    "        with open('/Users/apple/Desktop/Revature Training/Vasavi-Anusha/files/protected.txt', 'r') as file:\n",
    "            content = file.read()\n",
    "            print(content)\n",
    "    except FileNotFoundError:\n",
    "        print(\"File not found: 'protected.txt' does not exist.\")\n",
    "\n",
    "read_func()"
   ]
  }
 ],
 "metadata": {
  "kernelspec": {
   "display_name": "Python 3",
   "language": "python",
   "name": "python3"
  },
  "language_info": {
   "codemirror_mode": {
    "name": "ipython",
    "version": 3
   },
   "file_extension": ".py",
   "mimetype": "text/x-python",
   "name": "python",
   "nbconvert_exporter": "python",
   "pygments_lexer": "ipython3",
   "version": "3.9.6"
  }
 },
 "nbformat": 4,
 "nbformat_minor": 5
}
