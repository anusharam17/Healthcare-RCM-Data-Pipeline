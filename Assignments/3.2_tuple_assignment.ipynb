{
  "cells": [
    {
      "cell_type": "markdown",
      "metadata": {
        "id": "_lRZjIbczgHL"
      },
      "source": [
        "# Module 3: Data Structures Assignments\n",
        "## Lesson 3.2: Tuples\n",
        "### Assignment 1: Creating and Accessing Tuples\n",
        "\n",
        "Create a tuple with the first 10 positive integers. Print the tuple.\n"
      ]
    },
    {
      "cell_type": "code",
      "execution_count": 2,
      "metadata": {
        "colab": {
          "base_uri": "https://localhost:8080/"
        },
        "id": "-jelcOe2zahP",
        "outputId": "be04e5dd-8af7-4018-f4ab-5f69de62f5b3"
      },
      "outputs": [
        {
          "name": "stdout",
          "output_type": "stream",
          "text": [
            "(1, 2, 3, 4, 5, 6, 7, 8, 9, 10)\n"
          ]
        }
      ],
      "source": [
        "num = tuple(range(1, 11))\n",
        "print(num)"
      ]
    },
    {
      "cell_type": "markdown",
      "metadata": {
        "id": "qa-8kkg0ziPn"
      },
      "source": [
        "### Assignment 2: Accessing Tuple Elements\n",
        "\n",
        "Print the first, middle, and last elements of the tuple created in Assignment 1.\n"
      ]
    },
    {
      "cell_type": "code",
      "execution_count": 3,
      "metadata": {
        "colab": {
          "base_uri": "https://localhost:8080/"
        },
        "id": "_CijfW_uzklr",
        "outputId": "575cf981-d504-406b-f304-fc4a258472e3"
      },
      "outputs": [
        {
          "name": "stdout",
          "output_type": "stream",
          "text": [
            "first: 1\n",
            "middle: 6\n",
            "last: 10\n"
          ]
        }
      ],
      "source": [
        "print(f'first: {num[0]}')\n",
        "print(f'middle: {num[len(num) // 2]}')\n",
        "print(f'last: {num[-1]}')"
      ]
    },
    {
      "cell_type": "markdown",
      "metadata": {
        "id": "XwYT-i-FzlD-"
      },
      "source": [
        "### Assignment 3: Tuple Slicing\n",
        "\n",
        "Print the first three elements, the last three elements, and the elements from index 2 to 5 of the tuple created in Assignment 1."
      ]
    },
    {
      "cell_type": "code",
      "execution_count": 30,
      "metadata": {
        "colab": {
          "base_uri": "https://localhost:8080/"
        },
        "id": "-JpzcD3AznI8",
        "outputId": "3a5004bf-6135-40d3-df35-7eb1a9e6b7be"
      },
      "outputs": [
        {
          "name": "stdout",
          "output_type": "stream",
          "text": [
            "first 3 elements: (1, 2, 3)\n",
            "last 3 elements: (8, 9, 10)\n",
            "elements from index 2 to 5: (3, 4, 5, 6)\n"
          ]
        }
      ],
      "source": [
        "print(f'first 3 elements: {numbers[0:3]}')\n",
        "print(f'last 3 elements: {numbers[-3:]}')\n",
        "print(f'elements from index 2 to 5: {numbers[2:6]}')"
      ]
    },
    {
      "cell_type": "markdown",
      "metadata": {
        "id": "bpk1NoOaznlw"
      },
      "source": [
        "### Assignment 4: Nested Tuples\n",
        "\n",
        "Create a nested tuple representing a 3x3 matrix and print the matrix. Access and print the element at the second row and third column.\n"
      ]
    },
    {
      "cell_type": "code",
      "execution_count": 7,
      "metadata": {
        "colab": {
          "base_uri": "https://localhost:8080/"
        },
        "id": "zOmd7c2PzpqL",
        "outputId": "0bb9c8a5-a200-4d62-ea7c-445e0a93e329"
      },
      "outputs": [
        {
          "name": "stdout",
          "output_type": "stream",
          "text": [
            "(1, 2, 3)\n",
            "(4, 5, 6)\n",
            "(7, 8, 9)\n",
            "Second row third coloumn: 6\n"
          ]
        }
      ],
      "source": [
        "matrix = (\n",
        "    (1, 2, 3),\n",
        "    (4, 5, 6),\n",
        "    (7, 8, 9))\n",
        "for row in matrix:\n",
        "    print(row)\n",
        "num = matrix[1][2]\n",
        "print(\"Second row third coloumn:\",num)"
      ]
    },
    {
      "cell_type": "markdown",
      "metadata": {
        "id": "USXc8vBIzqAF"
      },
      "source": [
        "### Assignment 5: Tuple Concatenation\n",
        "\n",
        "Concatenate two tuples: (1, 2, 3) and (4, 5, 6). Print the resulting tuple."
      ]
    },
    {
      "cell_type": "code",
      "execution_count": 8,
      "metadata": {
        "colab": {
          "base_uri": "https://localhost:8080/"
        },
        "id": "8OVioKAOzsGy",
        "outputId": "81322afc-b7de-4198-8e4c-71e8d81dcba9"
      },
      "outputs": [
        {
          "name": "stdout",
          "output_type": "stream",
          "text": [
            "(1, 2, 3, 4, 5, 6)\n"
          ]
        }
      ],
      "source": [
        "tuple1 = (1, 2, 3)\n",
        "tuple2 = (4, 5, 6)\n",
        "\n",
        "result = tuple1 + tuple2\n",
        "\n",
        "print(result)"
      ]
    },
    {
      "cell_type": "markdown",
      "metadata": {
        "id": "b00a1IduzrtF"
      },
      "source": [
        "### Assignment 6: Tuple Methods\n",
        "\n",
        "Create a tuple with duplicate elements and count the occurrences of an element. Find the index of the first occurrence of an element in the tuple."
      ]
    },
    {
      "cell_type": "code",
      "execution_count": 10,
      "metadata": {},
      "outputs": [],
      "source": [
        "del tuple"
      ]
    },
    {
      "cell_type": "code",
      "execution_count": null,
      "metadata": {
        "colab": {
          "base_uri": "https://localhost:8080/"
        },
        "id": "mFmryf08zuPr",
        "outputId": "2f51ac04-cd06-4648-b876-0d212a29be44"
      },
      "outputs": [
        {
          "name": "stdout",
          "output_type": "stream",
          "text": [
            "Tuple: (17, 45, 30, 18, 13, 18, 15)\n",
            "Count of 18: 2\n",
            "index of 18: 3\n"
          ]
        }
      ],
      "source": [
        "tuple = (17, 45, 30, 18, 13, 18, 15,)\n",
        "count = tuple.count(18)\n",
        "index = tuple.index(18)\n",
        "\n",
        "print(\"Tuple:\", tuple)\n",
        "print(\"Count of 18:\", count)\n",
        "print(\"index of 18:\", index)\n"
      ]
    },
    {
      "cell_type": "markdown",
      "metadata": {
        "id": "tqDSDGp6zukE"
      },
      "source": [
        "### Assignment 7: Unpacking Tuples\n",
        "\n",
        "Create a tuple with 5 elements and unpack it into 5 variables. Print the variables."
      ]
    },
    {
      "cell_type": "code",
      "execution_count": 18,
      "metadata": {},
      "outputs": [],
      "source": [
        "del tuple"
      ]
    },
    {
      "cell_type": "code",
      "execution_count": 20,
      "metadata": {
        "colab": {
          "base_uri": "https://localhost:8080/"
        },
        "id": "iL1tHlmhzwcm",
        "outputId": "70f38e3b-f417-4403-92da-14dbeb9d99ed"
      },
      "outputs": [
        {
          "name": "stdout",
          "output_type": "stream",
          "text": [
            "Unpacked variables:\n",
            "a: 45\n",
            "b: 17\n",
            "c: 18\n",
            "d: 13\n",
            "e: 30\n"
          ]
        }
      ],
      "source": [
        "tuple = (45, 17, 18, 13, 30)\n",
        "\n",
        "a, b, c, d, e = tuple\n",
        "\n",
        "print(\"Unpacked variables:\")\n",
        "print(\"a:\", a)\n",
        "print(\"b:\", b)\n",
        "print(\"c:\", c)\n",
        "print(\"d:\", d)\n",
        "print(\"e:\", e)"
      ]
    },
    {
      "cell_type": "markdown",
      "metadata": {
        "id": "2iMlXWHFzw2n"
      },
      "source": [
        "### Assignment 8: Tuple Conversion\n",
        "\n",
        "Convert a list of the first 5 positive integers to a tuple. Print the tuple."
      ]
    },
    {
      "cell_type": "code",
      "execution_count": 22,
      "metadata": {},
      "outputs": [],
      "source": [
        "del tuple"
      ]
    },
    {
      "cell_type": "code",
      "execution_count": 23,
      "metadata": {
        "colab": {
          "base_uri": "https://localhost:8080/"
        },
        "id": "vIUE2fiKzy5A",
        "outputId": "487cd0fc-6555-43ba-ff64-1a65acd3b301"
      },
      "outputs": [
        {
          "name": "stdout",
          "output_type": "stream",
          "text": [
            "(1, 2, 3, 4, 5)\n"
          ]
        }
      ],
      "source": [
        "list = [1, 2, 3, 4, 5]\n",
        "\n",
        "tuple_list = tuple(list)\n",
        "\n",
        "print(tuple_list)"
      ]
    },
    {
      "cell_type": "markdown",
      "metadata": {
        "id": "iQ2UD0mJzzXd"
      },
      "source": [
        "### Assignment 9: Tuple of Tuples\n",
        "\n",
        "Create a tuple containing 3 tuples, each with 3 elements. Print the tuple of tuples."
      ]
    },
    {
      "cell_type": "code",
      "execution_count": 25,
      "metadata": {
        "colab": {
          "base_uri": "https://localhost:8080/"
        },
        "id": "VtZaO-BWz1Qa",
        "outputId": "46204400-cc98-45dd-be0d-990fdc3ecd03"
      },
      "outputs": [
        {
          "name": "stdout",
          "output_type": "stream",
          "text": [
            "Tuples:\n",
            "((1, 2, 3), (4, 5, 6), (7, 8, 29))\n"
          ]
        }
      ],
      "source": [
        "matrix = (\n",
        "    (1, 2, 3),\n",
        "    (4, 5, 6),\n",
        "    (7, 8, 29))\n",
        "\n",
        "print(\"Tuples:\")\n",
        "print(matrix)\n"
      ]
    },
    {
      "cell_type": "markdown",
      "metadata": {
        "id": "i34atTLgz1lK"
      },
      "source": [
        "### Assignment 10: Tuple and List\n",
        "\n",
        "Create a tuple with the first 5 positive integers. Convert it to a list, append the number 6, and convert it back to a tuple. Print the resulting tuple."
      ]
    },
    {
      "cell_type": "code",
      "execution_count": 36,
      "metadata": {
        "colab": {
          "base_uri": "https://localhost:8080/"
        },
        "id": "3L6Wwcwhz3l0",
        "outputId": "1cf4f2e2-3f70-4ce6-fe43-8164cccebc4e"
      },
      "outputs": [
        {
          "name": "stdout",
          "output_type": "stream",
          "text": [
            "(1, 2, 3, 4, 5, 6)\n"
          ]
        }
      ],
      "source": [
        "num = (1, 2, 3, 4, 5)\n",
        "num_list = list(num)\n",
        "num_list.append(6)\n",
        "result = tuple(num_list)\n",
        "\n",
        "print(result)"
      ]
    },
    {
      "cell_type": "markdown",
      "metadata": {
        "id": "fLYtTI3-z362"
      },
      "source": [
        "### Assignment 11: Tuple and String\n",
        "\n",
        "Create a tuple with the characters of a string. Join the tuple elements into a single string. Print the string."
      ]
    },
    {
      "cell_type": "code",
      "execution_count": 39,
      "metadata": {
        "colab": {
          "base_uri": "https://localhost:8080/"
        },
        "id": "Q8jeaJuHz584",
        "outputId": "bdfed914-0819-4547-aceb-373f979437a0"
      },
      "outputs": [
        {
          "name": "stdout",
          "output_type": "stream",
          "text": [
            "Tuple: ('A', 'n', 'u', 's', 'h', 'a')\n",
            "Joined string: Anusha\n"
          ]
        }
      ],
      "source": [
        "text = \"Anusha\"\n",
        "char_tuple = tuple(text)\n",
        "join_string = ''.join(char_tuple)\n",
        "print(\"Tuple:\", char_tuple)\n",
        "print(\"Joined string:\", join_string)\n"
      ]
    },
    {
      "cell_type": "markdown",
      "metadata": {
        "id": "uObPfOT2z6RQ"
      },
      "source": [
        "### Assignment 12: Tuple and Dictionary\n",
        "\n",
        "Create a dictionary with tuple keys and integer values. Print the dictionary."
      ]
    },
    {
      "cell_type": "code",
      "execution_count": 40,
      "metadata": {
        "colab": {
          "base_uri": "https://localhost:8080/"
        },
        "id": "gTA9byWiz8DZ",
        "outputId": "f4e81054-f832-42f3-a7b6-2288d28563bb"
      },
      "outputs": [
        {
          "name": "stdout",
          "output_type": "stream",
          "text": [
            "Dictionary with tuple keys:\n",
            "{(1, 2): 30, (3, 4): 50, (5, 6): 70}\n"
          ]
        }
      ],
      "source": [
        "my_dict = {\n",
        "    (1, 2): 30,\n",
        "    (3, 4): 50,\n",
        "    (5, 6): 70\n",
        "}\n",
        "\n",
        "print(\"Dictionary with tuple keys:\")\n",
        "print(my_dict)\n"
      ]
    },
    {
      "cell_type": "markdown",
      "metadata": {
        "id": "9mx2NPKZz8hA"
      },
      "source": [
        "### Assignment 13: Nested Tuple Iteration\n",
        "\n",
        "Create a nested tuple and iterate over the elements, printing each element."
      ]
    },
    {
      "cell_type": "code",
      "execution_count": null,
      "metadata": {
        "colab": {
          "base_uri": "https://localhost:8080/"
        },
        "id": "ZbJtMZysz-bY",
        "outputId": "d7d21d3d-c9d7-4de5-8de3-c48255f1f536"
      },
      "outputs": [
        {
          "name": "stdout",
          "output_type": "stream",
          "text": [
            "Nested Tuple:\n",
            "1\n",
            "2\n",
            "3\n",
            "4\n",
            "5\n",
            "6\n",
            "7\n",
            "8\n",
            "9\n"
          ]
        }
      ],
      "source": [
        "nested_tuple = (\n",
        "    (1, 2, 3),\n",
        "    (4, 5, 6),\n",
        "    (7, 8, 9)\n",
        ")\n",
        "print(\"Nested Tuple:\")\n",
        "for row in nested_tuple:\n",
        "    for item in row:\n",
        "        print(item)\n"
      ]
    },
    {
      "cell_type": "markdown",
      "metadata": {
        "id": "3AfestqKz-yd"
      },
      "source": [
        "### Assignment 14: Tuple and Set\n",
        "\n",
        "Create a tuple with duplicate elements. Convert it to a set to remove duplicates and print the resulting set."
      ]
    },
    {
      "cell_type": "code",
      "execution_count": 44,
      "metadata": {
        "colab": {
          "base_uri": "https://localhost:8080/"
        },
        "id": "m6MS6ZtH0A_p",
        "outputId": "7d393d98-ebb1-4de5-b503-0b679ce1bc09"
      },
      "outputs": [
        {
          "name": "stdout",
          "output_type": "stream",
          "text": [
            "Set with duplicates: (17, 2, 2, 3, 4, 4, 5)\n",
            "Set without duplicates: {2, 3, 4, 5, 17}\n"
          ]
        }
      ],
      "source": [
        "num = (17, 2, 2, 3, 4, 4, 5)\n",
        "unique = set(num)\n",
        "print(\"Set with duplicates:\", num)\n",
        "print(\"Set without duplicates:\", unique)\n"
      ]
    },
    {
      "cell_type": "markdown",
      "metadata": {
        "id": "2vaMk6Ve0BXc"
      },
      "source": [
        "### Assignment 15: Tuple Functions\n",
        "\n",
        "Write functions that take a tuple and return the minimum, maximum, and sum of the elements. Print the results for a sample tuple."
      ]
    },
    {
      "cell_type": "code",
      "execution_count": 47,
      "metadata": {
        "colab": {
          "base_uri": "https://localhost:8080/"
        },
        "id": "X8EWONIh0EZl",
        "outputId": "27166930-0f89-4b0b-cd7e-b346c90d14d8"
      },
      "outputs": [
        {
          "name": "stdout",
          "output_type": "stream",
          "text": [
            "Tuple: (10, 25, 7, 40, 18)\n",
            "Minimum: 7\n",
            "Maximum: 40\n",
            "Sum: 100\n"
          ]
        }
      ],
      "source": [
        "def get_min(t):\n",
        "    return min(t)\n",
        "\n",
        "def get_max(t):\n",
        "    return max(t)\n",
        "\n",
        "def get_sum(t):\n",
        "    return sum(t)\n",
        "\n",
        "tuple = (10, 25, 7, 40, 18)\n",
        "\n",
        "print(\"Tuple:\", tuple)\n",
        "print(\"Minimum:\", get_min(tuple))\n",
        "print(\"Maximum:\", get_max(tuple))\n",
        "print(\"Sum:\", get_sum(tuple))\n"
      ]
    }
  ],
  "metadata": {
    "colab": {
      "provenance": []
    },
    "kernelspec": {
      "display_name": "Python 3",
      "name": "python3"
    },
    "language_info": {
      "codemirror_mode": {
        "name": "ipython",
        "version": 3
      },
      "file_extension": ".py",
      "mimetype": "text/x-python",
      "name": "python",
      "nbconvert_exporter": "python",
      "pygments_lexer": "ipython3",
      "version": "3.9.6"
    }
  },
  "nbformat": 4,
  "nbformat_minor": 0
}
