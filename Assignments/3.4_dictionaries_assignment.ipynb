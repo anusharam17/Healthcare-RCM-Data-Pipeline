{
  "cells": [
    {
      "cell_type": "markdown",
      "metadata": {
        "id": "zH_OugDsV2-B"
      },
      "source": [
        "# Module 3: Data Structures Assignments\n",
        "## Lesson 3.4: Dictionaries\n",
        "### Assignment 1: Creating and Accessing Dictionaries\n",
        "\n",
        "Create a dictionary with the first 10 positive integers as keys and their squares as values. Print the dictionary.\n"
      ]
    },
    {
      "cell_type": "code",
      "execution_count": 3,
      "metadata": {
        "colab": {
          "base_uri": "https://localhost:8080/"
        },
        "id": "BVO9fw6NV1Yh",
        "outputId": "e221eae7-9440-443e-ba66-63a206c3be27"
      },
      "outputs": [
        {
          "name": "stdout",
          "output_type": "stream",
          "text": [
            "{1: 1, 2: 4, 3: 9, 4: 16, 5: 25, 6: 36, 7: 49, 8: 64, 9: 81, 10: 100}\n"
          ]
        }
      ],
      "source": [
        "dict = {x: x**2 for x in range(1,11)}\n",
        "print(dict)"
      ]
    },
    {
      "cell_type": "markdown",
      "metadata": {
        "id": "4yeNwbl5V6J6"
      },
      "source": [
        "### Assignment 2: Accessing Dictionary Elements\n",
        "\n",
        "Print the value of the key 5 and the keys of the dictionary created in Assignment 1."
      ]
    },
    {
      "cell_type": "code",
      "execution_count": 7,
      "metadata": {
        "colab": {
          "base_uri": "https://localhost:8080/"
        },
        "id": "Z3nFFQroV-AQ",
        "outputId": "df17f607-098b-4924-bae5-910288b9c2fa"
      },
      "outputs": [
        {
          "name": "stdout",
          "output_type": "stream",
          "text": [
            "Value of key 5: 25\n",
            "All keys: dict_keys([1, 2, 3, 4, 5, 6, 7, 8, 9, 10])\n"
          ]
        }
      ],
      "source": [
        "print(\"Value of key 5:\", dict[5])\n",
        "\n",
        "print(\"All keys:\", dict.keys())"
      ]
    },
    {
      "cell_type": "markdown",
      "metadata": {
        "id": "jTtp7ndfV-Vp"
      },
      "source": [
        "### Assignment 3: Dictionary Methods\n",
        "\n",
        "Add a new key-value pair (11, 121) to the dictionary created in Assignment 1 and then remove the key-value pair with key 1. Print the modified dictionary."
      ]
    },
    {
      "cell_type": "code",
      "execution_count": 8,
      "metadata": {
        "colab": {
          "base_uri": "https://localhost:8080/"
        },
        "id": "aHstgn26WA7H",
        "outputId": "46477dd9-0e5d-4ae3-e71b-cd5005165dc6"
      },
      "outputs": [
        {
          "name": "stdout",
          "output_type": "stream",
          "text": [
            "{1: 1, 2: 4, 3: 9, 4: 16, 5: 25, 6: 36, 7: 49, 8: 64, 9: 81, 10: 100, 11: 121}\n",
            "{2: 4, 3: 9, 4: 16, 5: 25, 6: 36, 7: 49, 8: 64, 9: 81, 10: 100, 11: 121}\n"
          ]
        }
      ],
      "source": [
        "dict[11] = 121\n",
        "print(dict)\n",
        "\n",
        "del dict[1]\n",
        "print(dict)"
      ]
    },
    {
      "cell_type": "markdown",
      "metadata": {
        "id": "ZypARLpjWBQb"
      },
      "source": [
        "### Assignment 4: Iterating Over Dictionaries\n",
        "\n",
        "Iterate over the dictionary created in Assignment 1 and print each key-value pair."
      ]
    },
    {
      "cell_type": "code",
      "execution_count": 10,
      "metadata": {
        "colab": {
          "base_uri": "https://localhost:8080/"
        },
        "id": "iBNQIsL2WEuW",
        "outputId": "f5ebf5f8-a2dc-439f-ca68-a52a4634ec65"
      },
      "outputs": [
        {
          "name": "stdout",
          "output_type": "stream",
          "text": [
            "2 4\n",
            "3 9\n",
            "4 16\n",
            "5 25\n",
            "6 36\n",
            "7 49\n",
            "8 64\n",
            "9 81\n",
            "10 100\n",
            "11 121\n"
          ]
        }
      ],
      "source": [
        "for k, v in dict.items():\n",
        "  print(k, v)"
      ]
    },
    {
      "cell_type": "markdown",
      "metadata": {
        "id": "p1LBMYd1WFDb"
      },
      "source": [
        "### Assignment 5: Dictionary Comprehensions\n",
        "\n",
        "Create a new dictionary containing the cubes of the first 10 positive integers using a dictionary comprehension. Print the new dictionary."
      ]
    },
    {
      "cell_type": "code",
      "execution_count": 11,
      "metadata": {
        "colab": {
          "base_uri": "https://localhost:8080/"
        },
        "id": "R0kA9hSwWHIY",
        "outputId": "9de9a13c-5a63-40e8-bb8f-32d2c5b0022a"
      },
      "outputs": [
        {
          "name": "stdout",
          "output_type": "stream",
          "text": [
            "{1: 1, 2: 8, 3: 27, 4: 64, 5: 125, 6: 216, 7: 343, 8: 512, 9: 729, 10: 1000}\n"
          ]
        }
      ],
      "source": [
        "cubes_dict = {x: x**3 for x in range(1, 11)}\n",
        "\n",
        "print(cubes_dict)"
      ]
    },
    {
      "cell_type": "markdown",
      "metadata": {
        "id": "N8ejZx7YWHc4"
      },
      "source": [
        "### Assignment 6: Merging Dictionaries\n",
        "\n",
        "Create two dictionaries: one with keys as the first 5 positive integers and values as their squares, and another with keys as the next 5 positive integers and values as their squares. Merge these dictionaries into a single dictionary and print it.\n"
      ]
    },
    {
      "cell_type": "code",
      "execution_count": 12,
      "metadata": {
        "colab": {
          "base_uri": "https://localhost:8080/"
        },
        "id": "_if8mov8WJOF",
        "outputId": "45b68b59-05ff-4a27-c57e-781bc80eabe1"
      },
      "outputs": [
        {
          "name": "stdout",
          "output_type": "stream",
          "text": [
            "Merged dictionary:\n",
            "{1: 1, 2: 4, 3: 9, 4: 16, 5: 25, 6: 36, 7: 49, 8: 64, 9: 81, 10: 100}\n"
          ]
        }
      ],
      "source": [
        "dict1 = {x: x**2 for x in range(1, 6)}\n",
        "\n",
        "dict2 = {x: x**2 for x in range(6, 11)}\n",
        "\n",
        "merged_dict = {**dict1, **dict2}\n",
        "\n",
        "print(\"Merged dictionary:\")\n",
        "print(merged_dict)\n"
      ]
    },
    {
      "cell_type": "markdown",
      "metadata": {
        "id": "AOzhGhxRWJwL"
      },
      "source": [
        "### Assignment 7: Nested Dictionaries\n",
        "\n",
        "Create a nested dictionary representing a student with keys 'name', 'age', 'grades', where 'grades' is another dictionary with keys 'math', 'science', and 'english'. Print the nested dictionary."
      ]
    },
    {
      "cell_type": "code",
      "execution_count": 9,
      "metadata": {
        "colab": {
          "base_uri": "https://localhost:8080/"
        },
        "id": "VIszfyzuWL5S",
        "outputId": "3caed28e-0a01-46e5-d737-903a11ca80b0"
      },
      "outputs": [
        {
          "name": "stdout",
          "output_type": "stream",
          "text": [
            "Student information:\n",
            "{'name': 'Anusha', 'age': 21, 'grades': {'math': 92, 'science': 83, 'english': 91}}\n"
          ]
        }
      ],
      "source": [
        "student = {\n",
        "    'name': 'Anusha',\n",
        "    'age': 21,\n",
        "    'grades': {\n",
        "        'math': 92,\n",
        "        'science': 83,\n",
        "        'english': 91\n",
        "    }\n",
        "}\n",
        "\n",
        "print(\"Student information:\")\n",
        "print(student)\n"
      ]
    },
    {
      "cell_type": "markdown",
      "metadata": {
        "id": "83IiMFGtWOBm"
      },
      "source": [
        "### Assignment 8: Dictionary of Lists\n",
        "\n",
        "Create a dictionary where the keys are the first 5 positive integers and the values are lists containing the first 5 multiples of the key. Print the dictionary."
      ]
    },
    {
      "cell_type": "code",
      "execution_count": 10,
      "metadata": {
        "colab": {
          "base_uri": "https://localhost:8080/"
        },
        "id": "3xPWacLxWOnE",
        "outputId": "96f232f4-997f-4034-de1f-5c2771b0a510"
      },
      "outputs": [
        {
          "name": "stdout",
          "output_type": "stream",
          "text": [
            "Dictionary of multiples:\n",
            "{1: [1, 2, 3, 4, 5], 2: [2, 4, 6, 8, 10], 3: [3, 6, 9, 12, 15], 4: [4, 8, 12, 16, 20], 5: [5, 10, 15, 20, 25]}\n"
          ]
        }
      ],
      "source": [
        "multiples_dict = {x: [x * i for i in range(1, 6)] for x in range(1, 6)}\n",
        "\n",
        "\n",
        "print(\"Dictionary of multiples:\")\n",
        "print(multiples_dict)"
      ]
    },
    {
      "cell_type": "markdown",
      "metadata": {
        "id": "yU8inRkHWPXq"
      },
      "source": [
        "### Assignment 9: Dictionary of Tuples\n",
        "\n",
        "Create a dictionary where the keys are the first 5 positive integers and the values are tuples containing the key and its square. Print the dictionary."
      ]
    },
    {
      "cell_type": "code",
      "execution_count": 18,
      "metadata": {
        "colab": {
          "base_uri": "https://localhost:8080/"
        },
        "id": "RUzon4XCWR39",
        "outputId": "16c0f781-12d8-4f9c-99e4-b8e7318707d0"
      },
      "outputs": [
        {
          "name": "stdout",
          "output_type": "stream",
          "text": [
            "Dictionary with key and its square as tuple values:\n",
            "{1: (1, 1), 2: (2, 4), 3: (3, 9), 4: (4, 16), 5: (5, 25)}\n"
          ]
        }
      ],
      "source": [
        "tuple_dict = {x: (x, x**2) for x in range(1, 6)}\n",
        "\n",
        "\n",
        "print(\"Dictionary with key and its square as tuple values:\")\n",
        "print(tuple_dict)"
      ]
    },
    {
      "cell_type": "markdown",
      "metadata": {
        "id": "lGMLbKqyWSZR"
      },
      "source": [
        "### Assignment 10: Dictionary and List Conversion\n",
        "\n",
        "Create a dictionary with the first 5 positive integers as keys and their squares as values. Convert the dictionary to a list of tuples and print it."
      ]
    },
    {
      "cell_type": "code",
      "execution_count": 8,
      "metadata": {
        "colab": {
          "base_uri": "https://localhost:8080/"
        },
        "id": "kL3KDLxuWU62",
        "outputId": "86a75b16-2839-4e30-82c1-cb051bb09ee2"
      },
      "outputs": [
        {
          "name": "stdout",
          "output_type": "stream",
          "text": [
            "List: [(1, 1), (2, 4), (3, 9), (4, 16), (5, 25)]\n"
          ]
        }
      ],
      "source": [
        "squares_dict = {x: x**2 for x in range(1, 6)}\n",
        "\n",
        "tuple_list = list(squares_dict.items())\n",
        "\n",
        "print(\"List:\", tuple_list)\n"
      ]
    },
    {
      "cell_type": "markdown",
      "metadata": {
        "id": "x3wBGpXQWVc5"
      },
      "source": [
        "### Assignment 11: Dictionary Filtering\n",
        "\n",
        "Create a dictionary with the first 10 positive integers as keys and their squares as values. Create a new dictionary containing only the key-value pairs where the key is even. Print the new dictionary."
      ]
    },
    {
      "cell_type": "code",
      "execution_count": 7,
      "metadata": {
        "colab": {
          "base_uri": "https://localhost:8080/"
        },
        "id": "z7KoVaFXWXUb",
        "outputId": "6dab0fe2-f212-49e4-ad07-99ee28232e13"
      },
      "outputs": [
        {
          "name": "stdout",
          "output_type": "stream",
          "text": [
            "Dictionary with even keys:\n",
            "{2: 4, 4: 16, 6: 36, 8: 64, 10: 100}\n"
          ]
        }
      ],
      "source": [
        "squares_dict = {x: x**2 for x in range(1, 11)}\n",
        "\n",
        "even_squares_dict = {k: v for k, v in squares_dict.items() if k % 2 == 0}\n",
        "\n",
        "print(\"Dictionary with even keys:\")\n",
        "print(even_squares_dict)"
      ]
    },
    {
      "cell_type": "markdown",
      "metadata": {
        "id": "aqkIYUFQWYHH"
      },
      "source": [
        "### Assignment 12: Dictionary Key and Value Transformation\n",
        "\n",
        "Create a dictionary with the first 5 positive integers as keys and their squares as values. Create a new dictionary with keys and values swapped. Print the new dictionary."
      ]
    },
    {
      "cell_type": "code",
      "execution_count": 5,
      "metadata": {
        "colab": {
          "base_uri": "https://localhost:8080/"
        },
        "id": "l_STvXJ9WaAk",
        "outputId": "f00c5cac-d6e7-4dcb-cd8b-4f7f22b3d020"
      },
      "outputs": [
        {
          "name": "stdout",
          "output_type": "stream",
          "text": [
            "Swapped dictionary (values as keys):\n",
            "{1: 1, 4: 2, 9: 3, 16: 4, 25: 5, 36: 6, 49: 7}\n"
          ]
        }
      ],
      "source": [
        "squares_dict = {x: x**2 for x in range(1, 8)}\n",
        "\n",
        "swapped_dict = {v: k for k, v in squares_dict.items()}\n",
        "\n",
        "print(\"Swapped dictionary (values as keys):\")\n",
        "print(swapped_dict)"
      ]
    },
    {
      "cell_type": "markdown",
      "metadata": {
        "id": "iM8Xn49xWYDh"
      },
      "source": [
        "### Assignment 13: Default Dictionary\n",
        "\n",
        "Create a default dictionary where each key has a default value of an empty list. Add some elements to the lists and print the dictionary."
      ]
    },
    {
      "cell_type": "code",
      "execution_count": 4,
      "metadata": {
        "colab": {
          "base_uri": "https://localhost:8080/"
        },
        "id": "K-t3r3jkWcY_",
        "outputId": "648e1309-d8a7-4b73-bb66-033cbc17876f"
      },
      "outputs": [
        {
          "name": "stdout",
          "output_type": "stream",
          "text": [
            "{'colors': ['red', 'blue', 'black']}\n"
          ]
        }
      ],
      "source": [
        "from collections import defaultdict\n",
        "\n",
        "my_dict = defaultdict(list)\n",
        "\n",
        "my_dict['colors'].append('red')\n",
        "my_dict['colors'].append('blue')\n",
        "my_dict['colors'].append('black')\n",
        "\n",
        "print(dict(my_dict))"
      ]
    },
    {
      "cell_type": "markdown",
      "metadata": {
        "id": "Bie3gxCEWc0X"
      },
      "source": [
        "### Assignment 14: Counting with Dictionaries\n",
        "\n",
        "Write a function that takes a string and returns a dictionary with the count of each character in the string. Print the dictionary."
      ]
    },
    {
      "cell_type": "code",
      "execution_count": 2,
      "metadata": {
        "colab": {
          "base_uri": "https://localhost:8080/"
        },
        "id": "lZeYDOQUWfGC",
        "outputId": "3a3a956a-6f25-49da-8c1a-238665e2ecc4"
      },
      "outputs": [
        {
          "name": "stdout",
          "output_type": "stream",
          "text": [
            "{'V': 1, 'a': 3, 's': 2, 'v': 1, 'i': 1, ' ': 1, 'A': 1, 'n': 1, 'u': 1, 'h': 1}\n"
          ]
        }
      ],
      "source": [
        "def count_characters(s):\n",
        "    result = {}\n",
        "    for char in s:\n",
        "        if char in result:\n",
        "            result[char] += 1\n",
        "        else:\n",
        "            result[char] = 1\n",
        "    return result\n",
        "\n",
        "text = \"Vasavi Anusha\"\n",
        "char_count = count_characters(text)\n",
        "print(char_count)"
      ]
    },
    {
      "cell_type": "markdown",
      "metadata": {
        "id": "jQLsek4_Wfam"
      },
      "source": [
        "### Assignment 15: Dictionary and JSON\n",
        "\n",
        "Create a dictionary representing a book with keys 'title', 'author', 'year', and 'genre'. Convert the dictionary to a JSON string and print it."
      ]
    },
    {
      "cell_type": "code",
      "execution_count": 1,
      "metadata": {
        "colab": {
          "base_uri": "https://localhost:8080/"
        },
        "id": "Jx2e_ToiWhb3",
        "outputId": "b3d39ed1-2c0f-4d94-8ca5-36766827b5ce"
      },
      "outputs": [
        {
          "name": "stdout",
          "output_type": "stream",
          "text": [
            "{\"title\": \"Maybe Someday\", \"author\": \"Collen Hover\", \"year\": 2014, \"genre\": \"Fiction\"}\n"
          ]
        }
      ],
      "source": [
        "import json\n",
        "\n",
        "book = {\n",
        "    'title': 'Maybe Someday',\n",
        "    'author': 'Collen Hover',\n",
        "    'year': 2014,\n",
        "    'genre': 'Fiction'\n",
        "}\n",
        "\n",
        "book_json = json.dumps(book)\n",
        "\n",
        "print(book_json)"
      ]
    }
  ],
  "metadata": {
    "colab": {
      "provenance": []
    },
    "kernelspec": {
      "display_name": "Python 3",
      "name": "python3"
    },
    "language_info": {
      "codemirror_mode": {
        "name": "ipython",
        "version": 3
      },
      "file_extension": ".py",
      "mimetype": "text/x-python",
      "name": "python",
      "nbconvert_exporter": "python",
      "pygments_lexer": "ipython3",
      "version": "3.9.6"
    }
  },
  "nbformat": 4,
  "nbformat_minor": 0
}
