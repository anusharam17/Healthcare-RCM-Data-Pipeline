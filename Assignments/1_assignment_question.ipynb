{
  "cells": [
    {
      "cell_type": "markdown",
      "metadata": {
        "id": "duz22VqQck58"
      },
      "source": [
        "# Python Basics\n",
        "## Topics Covered:\n",
        "- Syntax and Semantics\n",
        "- Variables and Data Types\n",
        "- Basic Operators (Arithmetic, Comparison, Logical)\n"
      ]
    },
    {
      "cell_type": "markdown",
      "metadata": {
        "id": "B2Y-yjWeck6D"
      },
      "source": [
        "## 1. Syntax and Semantics\n",
        "\n",
        "**Question 1:** Write a Python program to print \"Hello, World!\"."
      ]
    },
    {
      "cell_type": "code",
      "execution_count": null,
      "metadata": {
        "id": "uyzJeUyMck6D",
        "colab": {
          "base_uri": "https://localhost:8080/"
        },
        "outputId": "e943fd97-f573-4810-f8fb-088392c06158"
      },
      "outputs": [
        {
          "output_type": "stream",
          "name": "stdout",
          "text": [
            "Hello, World!\n"
          ]
        }
      ],
      "source": [
        "# Your code here\n",
        "print(\"Hello, World!\")"
      ]
    },
    {
      "cell_type": "markdown",
      "metadata": {
        "id": "_SCer8rKck6F"
      },
      "source": [
        "**Question 2:** Write a Python program that takes a user input and prints it."
      ]
    },
    {
      "cell_type": "code",
      "execution_count": null,
      "metadata": {
        "id": "MMycms3Tck6F",
        "colab": {
          "base_uri": "https://localhost:8080/"
        },
        "outputId": "d96cf1fb-9aaa-439c-c784-2e07c3acbfb5"
      },
      "outputs": [
        {
          "output_type": "stream",
          "name": "stdout",
          "text": [
            "Enter your name:Anusha\n",
            "Hi, Anusha\n"
          ]
        }
      ],
      "source": [
        "# Your code here\n",
        "name=input(\"Enter your name:\")\n",
        "print(\"Hi,\",name)"
      ]
    },
    {
      "cell_type": "markdown",
      "metadata": {
        "id": "LR60y3Lwck6F"
      },
      "source": [
        "**Question 3:** Write a Python program to check if a number is positive, negative, or zero."
      ]
    },
    {
      "cell_type": "code",
      "execution_count": null,
      "metadata": {
        "id": "ZIYEndP0ck6G",
        "colab": {
          "base_uri": "https://localhost:8080/"
        },
        "outputId": "80e96403-bebe-4098-8692-12910e93ceef"
      },
      "outputs": [
        {
          "output_type": "stream",
          "name": "stdout",
          "text": [
            "Enter a number:17\n",
            "Number is positive\n"
          ]
        }
      ],
      "source": [
        "# Your code here\n",
        "num=int(input(\"Enter a number:\"))\n",
        "if num>0:\n",
        "    print(\"Number is positive\")\n",
        "elif num<0:\n",
        "    print(\"Number is negative\")\n",
        "else:\n",
        "    print(\"Number is zero\")"
      ]
    },
    {
      "cell_type": "markdown",
      "metadata": {
        "id": "JNYk6LYWck6G"
      },
      "source": [
        "**Question 4:** Write a Python program to find the largest of three numbers."
      ]
    },
    {
      "cell_type": "code",
      "execution_count": null,
      "metadata": {
        "id": "GR96rETBck6H",
        "colab": {
          "base_uri": "https://localhost:8080/"
        },
        "outputId": "c583bdea-0e0d-4116-8d2f-bad64151c81d"
      },
      "outputs": [
        {
          "output_type": "stream",
          "name": "stdout",
          "text": [
            "Enter 1st number:45\n",
            "Enter 2nd number:17\n",
            "Enter 3rd number:18\n",
            "45 is the largest number\n"
          ]
        }
      ],
      "source": [
        "# Your code here\n",
        "num1=int(input(\"Enter 1st number:\"))\n",
        "num2=int(input(\"Enter 2nd number:\"))\n",
        "num3=int(input(\"Enter 3rd number:\"))\n",
        "if num1>num2 and num1>num3:\n",
        "    print(num1,\"is the largest number\")\n",
        "elif num2>num1 and num2>num3:\n",
        "    print(num2,\"is the largest number\")\n",
        "else:\n",
        "    print(num3,\"is the largest number\")\n"
      ]
    },
    {
      "cell_type": "markdown",
      "metadata": {
        "id": "6EXmfruHck6H"
      },
      "source": [
        "**Question 5:** Write a Python program to calculate the factorial of a number."
      ]
    },
    {
      "cell_type": "code",
      "execution_count": null,
      "metadata": {
        "id": "HGBbL6oRck6I",
        "colab": {
          "base_uri": "https://localhost:8080/"
        },
        "outputId": "7e5788f2-9817-477b-ca1b-867f3f78e0b4"
      },
      "outputs": [
        {
          "output_type": "stream",
          "name": "stdout",
          "text": [
            "Enter a number:17\n",
            "355687428096000\n"
          ]
        }
      ],
      "source": [
        "# Your code here\n",
        "num=int(input(\"Enter a number:\"))\n",
        "fact=1\n",
        "for i in range(1,num+1):\n",
        "    fact=fact*i\n",
        "print(fact)"
      ]
    },
    {
      "cell_type": "markdown",
      "metadata": {
        "id": "gg4m6fc3ck6J"
      },
      "source": [
        "## 2. Variables and Data Types\n",
        "\n",
        "**Question 6:** Create variables of different data types: integer, float, string, and boolean. Print their values and types."
      ]
    },
    {
      "cell_type": "code",
      "execution_count": null,
      "metadata": {
        "id": "cN4cxCZhck6K",
        "colab": {
          "base_uri": "https://localhost:8080/"
        },
        "outputId": "e0bf9683-c02f-40b7-babb-bb7fa924116a"
      },
      "outputs": [
        {
          "output_type": "stream",
          "name": "stdout",
          "text": [
            "10 <class 'int'>\n",
            "10.5 <class 'float'>\n",
            "Hello <class 'str'>\n",
            "True <class 'bool'>\n"
          ]
        }
      ],
      "source": [
        "# Your code here\n",
        "my_int=10\n",
        "my_float=10.5\n",
        "my_str=\"Hello\"\n",
        "my_bool=True\n",
        "print(my_int,type(my_int))\n",
        "print(my_float,type(my_float))\n",
        "print(my_str,type(my_str))\n",
        "print(my_bool,type(my_bool))"
      ]
    },
    {
      "cell_type": "markdown",
      "metadata": {
        "id": "ob_U6Jxsck6K"
      },
      "source": [
        "**Question 7:** Write a Python program to swap the values of two variables."
      ]
    },
    {
      "cell_type": "code",
      "execution_count": null,
      "metadata": {
        "id": "pU31Misick6K",
        "colab": {
          "base_uri": "https://localhost:8080/"
        },
        "outputId": "4bc5b0c6-28be-4861-dbba-3e72e59950fb"
      },
      "outputs": [
        {
          "output_type": "stream",
          "name": "stdout",
          "text": [
            "Enter 1st number:17\n",
            "Enter 2nd number:18\n",
            "num1= 18\n",
            "num2= 17\n"
          ]
        }
      ],
      "source": [
        "# Your code here\n",
        "num1=int(input(\"Enter 1st number:\"))\n",
        "num2=int(input(\"Enter 2nd number:\"))\n",
        "temp=num1\n",
        "num1=num2\n",
        "num2=temp\n",
        "print(\"num1=\",num1)\n",
        "print(\"num2=\",num2)"
      ]
    },
    {
      "cell_type": "markdown",
      "metadata": {
        "id": "Qv48dSaXck6L"
      },
      "source": [
        "**Question 8:** Write a Python program to convert Celsius to Fahrenheit."
      ]
    },
    {
      "cell_type": "code",
      "execution_count": null,
      "metadata": {
        "id": "yLJGEnCrck6L",
        "colab": {
          "base_uri": "https://localhost:8080/"
        },
        "outputId": "e346c5c0-2cb5-4a73-e48c-cc4832dc605e"
      },
      "outputs": [
        {
          "output_type": "stream",
          "name": "stdout",
          "text": [
            "Celsius:45\n",
            "Fahrenheit: 113.0\n"
          ]
        }
      ],
      "source": [
        "# Your code here\n",
        "celsius=float(input(\"Celsius:\"))\n",
        "fahrenheit=(celsius*9/5)+32\n",
        "print(\"Fahrenheit:\",fahrenheit)"
      ]
    },
    {
      "cell_type": "markdown",
      "metadata": {
        "id": "5jl0wIz1ck6M"
      },
      "source": [
        "**Question 9:** Write a Python program to concatenate two strings."
      ]
    },
    {
      "cell_type": "code",
      "execution_count": null,
      "metadata": {
        "id": "eMOP6dscck6N",
        "colab": {
          "base_uri": "https://localhost:8080/"
        },
        "outputId": "cca32915-f8aa-4ba8-9b01-dad14446d64e"
      },
      "outputs": [
        {
          "output_type": "stream",
          "name": "stdout",
          "text": [
            "1st string:Vasavi \n",
            "2nd string:Anusha\n",
            "Vasavi Anusha\n"
          ]
        }
      ],
      "source": [
        "# Your code here\n",
        "str1=input(\"1st string:\")\n",
        "str2=input(\"2nd string:\")\n",
        "print(str1 + str2)"
      ]
    },
    {
      "cell_type": "markdown",
      "metadata": {
        "id": "OxtLJdExck6N"
      },
      "source": [
        "**Question 10:** Write a Python program to check if a variable is of a specific data type."
      ]
    },
    {
      "cell_type": "code",
      "execution_count": null,
      "metadata": {
        "id": "iZManYcRck6N",
        "colab": {
          "base_uri": "https://localhost:8080/"
        },
        "outputId": "d719caa8-daaf-426e-e10c-d9c286eeef2a"
      },
      "outputs": [
        {
          "output_type": "stream",
          "name": "stdout",
          "text": [
            "False\n"
          ]
        }
      ],
      "source": [
        "# Your code here\n",
        "str=\"Anu\"\n",
        "print(isinstance(str,int))"
      ]
    },
    {
      "cell_type": "markdown",
      "metadata": {
        "id": "3JbY2jBUck6O"
      },
      "source": [
        "## 3. Basic Operators (Arithmetic, Comparison, Logical)\n",
        "\n",
        "**Question 11:** Write a Python program to perform arithmetic operations: addition, subtraction, multiplication, and division."
      ]
    },
    {
      "cell_type": "code",
      "execution_count": null,
      "metadata": {
        "id": "0SjPWLSLck6O",
        "colab": {
          "base_uri": "https://localhost:8080/"
        },
        "outputId": "1aa300ae-327e-400c-afbf-e20f80f55a0a"
      },
      "outputs": [
        {
          "output_type": "stream",
          "name": "stdout",
          "text": [
            "1st number:45\n",
            "2nd number:17\n",
            "Addition: 62\n",
            "Subtraction: 28\n",
            "Multiplication: 765\n",
            "Division: 2.6470588235294117\n"
          ]
        }
      ],
      "source": [
        "# Your code here\n",
        "num1=int(input(\"1st number:\"))\n",
        "num2=int(input(\"2nd number:\"))\n",
        "print(\"Addition:\",num1+num2)\n",
        "print(\"Subtraction:\",num1-num2)\n",
        "print(\"Multiplication:\",num1*num2)\n",
        "print(\"Division:\",num1/num2)"
      ]
    },
    {
      "cell_type": "markdown",
      "metadata": {
        "id": "6FFBqGp2ck6O"
      },
      "source": [
        "**Question 12:** Write a Python program to demonstrate comparison operators: equal to, not equal to, greater than, less than."
      ]
    },
    {
      "cell_type": "code",
      "execution_count": null,
      "metadata": {
        "id": "KXwz4ZdMck6O",
        "colab": {
          "base_uri": "https://localhost:8080/"
        },
        "outputId": "ec02c77a-4b86-48e9-f989-2c81c8588b2f"
      },
      "outputs": [
        {
          "output_type": "stream",
          "name": "stdout",
          "text": [
            "1st number:17\n",
            "2nd number:18\n",
            "False\n",
            "True\n",
            "False\n",
            "True\n"
          ]
        }
      ],
      "source": [
        "# Your code here\n",
        "num1=int(input(\"1st number:\"))\n",
        "num2=int(input(\"2nd number:\"))\n",
        "print(num1==num2)\n",
        "print(num1!=num2)\n",
        "print(num1>num2)\n",
        "print(num1<num2)"
      ]
    },
    {
      "cell_type": "markdown",
      "metadata": {
        "id": "TIB8GAmHck6O"
      },
      "source": [
        "**Question 13:** Write a Python program to demonstrate logical operators: and, or, not."
      ]
    },
    {
      "cell_type": "code",
      "execution_count": null,
      "metadata": {
        "id": "yrhHpWN0ck6P",
        "colab": {
          "base_uri": "https://localhost:8080/"
        },
        "outputId": "9be8d2c5-4b68-4abe-df4a-3e5db13322e2"
      },
      "outputs": [
        {
          "output_type": "stream",
          "name": "stdout",
          "text": [
            "1st number:45\n",
            "2nd number:18\n",
            "True\n",
            "True\n",
            "False\n"
          ]
        }
      ],
      "source": [
        "# Your code here\n",
        "num1=int(input(\"1st number:\"))\n",
        "num2=int(input(\"2nd number:\"))\n",
        "print(num1>0 and num2>0)\n",
        "print(num1>0 or num2>0)\n",
        "print(not(num1>0))"
      ]
    },
    {
      "cell_type": "markdown",
      "metadata": {
        "id": "hK0sZ7vWck6P"
      },
      "source": [
        "**Question 14:** Write a Python program to calculate the square of a number."
      ]
    },
    {
      "cell_type": "code",
      "execution_count": null,
      "metadata": {
        "id": "_ETnqwU3ck6P",
        "colab": {
          "base_uri": "https://localhost:8080/"
        },
        "outputId": "1959b7f4-9e0a-4896-bbc0-eea57889bc20"
      },
      "outputs": [
        {
          "output_type": "stream",
          "name": "stdout",
          "text": [
            "Enter a number:17\n",
            "Square: 289\n"
          ]
        }
      ],
      "source": [
        "# Your code here\n",
        "num=int(input(\"Enter a number:\"))\n",
        "print(\"Square:\",num**2)"
      ]
    },
    {
      "cell_type": "markdown",
      "metadata": {
        "id": "KpE8yObnck6P"
      },
      "source": [
        "**Question 15:** Write a Python program to check if a number is even or odd."
      ]
    },
    {
      "cell_type": "code",
      "execution_count": null,
      "metadata": {
        "id": "b6Oi_r9Lck6P",
        "colab": {
          "base_uri": "https://localhost:8080/"
        },
        "outputId": "bccd3b24-eb96-48c0-a13e-6e8b9e709080"
      },
      "outputs": [
        {
          "output_type": "stream",
          "name": "stdout",
          "text": [
            "Enter a number:45\n",
            "Number is odd\n"
          ]
        }
      ],
      "source": [
        "# Your code here\n",
        "num=int(input(\"Enter a number:\"))\n",
        "if num%2==0:\n",
        "    print(\"Number is even\")\n",
        "else:\n",
        "    print(\"Number is odd\")"
      ]
    },
    {
      "cell_type": "markdown",
      "metadata": {
        "id": "DKFFebdUck6Q"
      },
      "source": [
        "**Question 16:** Write a Python program to find the sum of the first n natural numbers."
      ]
    },
    {
      "cell_type": "code",
      "execution_count": null,
      "metadata": {
        "id": "rgvPRzDbck6Q"
      },
      "outputs": [],
      "source": [
        "# Your code here\n",
        "num=int(input(\"Enter a number:\"))\n",
        "sum=0\n",
        "for i in range(1,num+1):\n",
        "    sum=sum+i\n",
        "print(\"Sum:\",sum)"
      ]
    },
    {
      "cell_type": "markdown",
      "metadata": {
        "id": "_xvJSbc5ck6Q"
      },
      "source": [
        "**Question 17:** Write a Python program to check if a year is a leap year."
      ]
    },
    {
      "cell_type": "code",
      "execution_count": null,
      "metadata": {
        "id": "Fbok41yTck6Q",
        "colab": {
          "base_uri": "https://localhost:8080/"
        },
        "outputId": "5b09ee3d-eca6-4e77-b608-1dc3026949b8"
      },
      "outputs": [
        {
          "output_type": "stream",
          "name": "stdout",
          "text": [
            "Enter a year:2024\n",
            "Leap year\n"
          ]
        }
      ],
      "source": [
        "# Your code here\n",
        "num=int(input(\"Enter a year:\"))\n",
        "if num%4==0:\n",
        "    print(\"Leap year\")\n",
        "else:\n",
        "    print(\"Not a leap year\")\n"
      ]
    },
    {
      "cell_type": "markdown",
      "metadata": {
        "id": "IURlYb0gck6Q"
      },
      "source": [
        "**Question 18:** Write a Python program to reverse a string."
      ]
    },
    {
      "cell_type": "code",
      "execution_count": null,
      "metadata": {
        "id": "ZxNh3OF-ck6Q",
        "colab": {
          "base_uri": "https://localhost:8080/"
        },
        "outputId": "2edef5f9-b8e5-410c-c6db-af1b6964da0e"
      },
      "outputs": [
        {
          "output_type": "stream",
          "name": "stdout",
          "text": [
            "Enter a string:MadaM\n",
            "MadaM\n"
          ]
        }
      ],
      "source": [
        "# Your code here\n",
        "str=input(\"Enter a string:\")\n",
        "print(str[::-1])"
      ]
    },
    {
      "cell_type": "markdown",
      "metadata": {
        "id": "hurPS2VDck6R"
      },
      "source": [
        "**Question 19:** Write a Python program to check if a string is a palindrome."
      ]
    },
    {
      "cell_type": "code",
      "execution_count": 1,
      "metadata": {
        "id": "Ph1X3Fcqck6R",
        "colab": {
          "base_uri": "https://localhost:8080/"
        },
        "outputId": "71a08ab2-0c78-4d86-d8f2-5b19aa9970cf"
      },
      "outputs": [
        {
          "output_type": "stream",
          "name": "stdout",
          "text": [
            "Enter a string:ANUSHA\n",
            "Not a palindrome\n"
          ]
        }
      ],
      "source": [
        "# Your code here\n",
        "str=input(\"Enter a string:\")\n",
        "if str==str[::-1]:\n",
        "    print(\"Palindrome\")\n",
        "else:\n",
        "    print(\"Not a palindrome\")"
      ]
    },
    {
      "cell_type": "markdown",
      "metadata": {
        "id": "oyXI9xx2ck6Z"
      },
      "source": [
        "**Question 20:** Write a Python program to sort a list of numbers in ascending order."
      ]
    },
    {
      "cell_type": "code",
      "execution_count": 2,
      "metadata": {
        "id": "p76UrAYxck6Z",
        "colab": {
          "base_uri": "https://localhost:8080/"
        },
        "outputId": "326043fe-b4fa-4604-e74e-6ddaf2f8085c"
      },
      "outputs": [
        {
          "output_type": "stream",
          "name": "stdout",
          "text": [
            "[8, 17, 18, 30, 45]\n"
          ]
        }
      ],
      "source": [
        "# Your code here\n",
        "num=[45,17,18,8,30]\n",
        "num.sort()\n",
        "print(num)"
      ]
    }
  ],
  "metadata": {
    "kernelspec": {
      "display_name": "Python 3",
      "language": "python",
      "name": "python3"
    },
    "language_info": {
      "codemirror_mode": {
        "name": "ipython",
        "version": 3
      },
      "file_extension": ".py",
      "mimetype": "text/x-python",
      "name": "python",
      "nbconvert_exporter": "python",
      "pygments_lexer": "ipython3",
      "version": "3.8.5"
    },
    "colab": {
      "provenance": []
    }
  },
  "nbformat": 4,
  "nbformat_minor": 0
}