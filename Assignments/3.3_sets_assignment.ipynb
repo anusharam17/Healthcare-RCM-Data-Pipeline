{
  "cells": [
    {
      "cell_type": "markdown",
      "metadata": {
        "id": "fWSfuhaL6DlS"
      },
      "source": [
        "# Module 3: Data Structures Assignments\n",
        "## Lesson 3.3: Sets\n",
        "### Assignment 1: Creating and Accessing Sets\n",
        "\n",
        "Create a set with the first 10 positive integers. Print the set."
      ]
    },
    {
      "cell_type": "code",
      "execution_count": 1,
      "metadata": {
        "colab": {
          "base_uri": "https://localhost:8080/"
        },
        "id": "mup7QRbt6B3V",
        "outputId": "64dd2150-7aaa-4b14-97a6-3924af9ef72b"
      },
      "outputs": [
        {
          "name": "stdout",
          "output_type": "stream",
          "text": [
            "{1, 2, 3, 4, 5, 6, 7, 8, 9, 10}\n"
          ]
        }
      ],
      "source": [
        "set1 = set(range(1,11))\n",
        "\n",
        "print(set1)"
      ]
    },
    {
      "cell_type": "markdown",
      "metadata": {
        "id": "SLQkTHsV6Ffr"
      },
      "source": [
        "### Assignment 2: Adding and Removing Elements\n",
        "\n",
        "Add the number 11 to the set created in Assignment 1. Then remove the number 1 from the set. Print the modified set."
      ]
    },
    {
      "cell_type": "code",
      "execution_count": 1,
      "metadata": {
        "colab": {
          "base_uri": "https://localhost:8080/"
        },
        "id": "WkgMFLRw6Iw9",
        "outputId": "cb006ac2-7610-4fd0-9a76-a52e97a27b57"
      },
      "outputs": [
        {
          "name": "stdout",
          "output_type": "stream",
          "text": [
            "set: {2, 3, 4, 5, 6, 7, 8, 9, 10, 11}\n"
          ]
        }
      ],
      "source": [
        "numbers = set(range(1, 11))\n",
        "\n",
        "numbers.add(11)\n",
        "\n",
        "numbers.remove(1)\n",
        "\n",
        "print(\"set:\", numbers)"
      ]
    },
    {
      "cell_type": "markdown",
      "metadata": {
        "id": "wFnkx7Jg6JRd"
      },
      "source": [
        "### Assignment 3: Set Operations\n",
        "\n",
        "Create two sets: one with the first 5 positive integers and another with the first 5 even integers. Perform and print the results of union, intersection, difference, and symmetric difference operations on these sets."
      ]
    },
    {
      "cell_type": "code",
      "execution_count": 3,
      "metadata": {
        "colab": {
          "base_uri": "https://localhost:8080/"
        },
        "id": "GXhVyqmh6LY5",
        "outputId": "9712a525-df17-4dbf-ae72-8477a880a73d"
      },
      "outputs": [
        {
          "name": "stdout",
          "output_type": "stream",
          "text": [
            "Set 1: {1, 2, 3, 4, 5}\n",
            "Set 2: {2, 4, 6, 8, 10}\n",
            "Union: {1, 2, 3, 4, 5, 6, 8, 10}\n",
            "Intersection: {2, 4}\n",
            "Difference (set1 - set2): {1, 3, 5}\n",
            "Symmetric Difference: {1, 3, 5, 6, 8, 10}\n"
          ]
        }
      ],
      "source": [
        "set1 = {1, 2, 3, 4, 5}\n",
        "\n",
        "set2 = {2, 4, 6, 8, 10}\n",
        "\n",
        "\n",
        "union_set = set1.union(set2)\n",
        "intersection_set = set1.intersection(set2)\n",
        "difference_set = set1.difference(set2)\n",
        "symmetric_diff_set = set1.symmetric_difference(set2)\n",
        "\n",
        "print(\"Set 1:\", set1)\n",
        "print(\"Set 2:\", set2)\n",
        "print(\"Union:\", union_set)\n",
        "print(\"Intersection:\", intersection_set)\n",
        "print(\"Difference (set1 - set2):\", difference_set)\n",
        "print(\"Symmetric Difference:\", symmetric_diff_set)\n"
      ]
    },
    {
      "cell_type": "markdown",
      "metadata": {
        "id": "dExckeD96L3K"
      },
      "source": [
        "### Assignment 4: Set Comprehensions\n",
        "\n",
        "Create a new set containing the squares of the first 10 positive integers using a set comprehension. Print the new set."
      ]
    },
    {
      "cell_type": "code",
      "execution_count": 4,
      "metadata": {
        "colab": {
          "base_uri": "https://localhost:8080/"
        },
        "id": "LWSxSVJ26N3_",
        "outputId": "a3d9b188-59a7-42fe-9330-d64cca4bc444"
      },
      "outputs": [
        {
          "name": "stdout",
          "output_type": "stream",
          "text": [
            "Set of squares: {64, 1, 4, 36, 100, 9, 16, 49, 81, 25}\n"
          ]
        }
      ],
      "source": [
        "squares = {x**2 for x in range(1, 11)}\n",
        "\n",
        "\n",
        "print(\"Set of squares:\", squares)"
      ]
    },
    {
      "cell_type": "markdown",
      "metadata": {
        "id": "rc54eDEB6Oer"
      },
      "source": [
        "### Assignment 5: Filtering Sets\n",
        "\n",
        "Create a new set containing only the even numbers from the set created in Assignment 1 using a set comprehension. Print the new set."
      ]
    },
    {
      "cell_type": "code",
      "execution_count": 5,
      "metadata": {
        "colab": {
          "base_uri": "https://localhost:8080/"
        },
        "id": "aum3Td1U6QcS",
        "outputId": "7247b2b4-58bd-40b5-8821-0d91a4a28052"
      },
      "outputs": [
        {
          "name": "stdout",
          "output_type": "stream",
          "text": [
            "Even numbers set: {2, 4, 6, 8, 10}\n"
          ]
        }
      ],
      "source": [
        "numbers = set(range(1, 11))\n",
        "\n",
        "even_numbers = {x for x in numbers if x % 2 == 0}\n",
        "\n",
        "print(\"Even numbers set:\", even_numbers)"
      ]
    },
    {
      "cell_type": "markdown",
      "metadata": {
        "id": "K_j4y7IZ6RVB"
      },
      "source": [
        "### Assignment 6: Set Methods\n",
        "\n",
        "Create a set with duplicate elements and remove the duplicates using set methods. Print the modified set."
      ]
    },
    {
      "cell_type": "code",
      "execution_count": 2,
      "metadata": {
        "colab": {
          "base_uri": "https://localhost:8080/"
        },
        "id": "YxaPBJMI6TJH",
        "outputId": "cbe65ee9-eb7e-4ffa-82cd-653fb0e98218"
      },
      "outputs": [
        {
          "name": "stdout",
          "output_type": "stream",
          "text": [
            "Set : {1, 2, 3, 4, 5}\n"
          ]
        }
      ],
      "source": [
        "numbers_list = [1, 2, 2, 3, 4, 4, 5]\n",
        "\n",
        "numbers = set(numbers_list)\n",
        "\n",
        "print(\"Set :\", numbers)"
      ]
    },
    {
      "cell_type": "markdown",
      "metadata": {
        "id": "SPWu_Ieu6TvB"
      },
      "source": [
        "### Assignment 7: Subsets and Supersets\n",
        "\n",
        "Create two sets: one with the first 5 positive integers and another with the first 3 positive integers. Check if the second set is a subset of the first set and if the first set is a superset of the second set. Print the results."
      ]
    },
    {
      "cell_type": "code",
      "execution_count": 3,
      "metadata": {
        "colab": {
          "base_uri": "https://localhost:8080/"
        },
        "id": "_wJ-H07T6WK-",
        "outputId": "4ddef8cd-52fc-4835-a22f-d7fc33a0e9b2"
      },
      "outputs": [
        {
          "name": "stdout",
          "output_type": "stream",
          "text": [
            "Set 1: {1, 2, 3, 4, 5}\n",
            "Set 2: {1, 2, 3}\n",
            "Is set2 a subset of set1 True\n",
            "Is set1 a superset of set2 True\n"
          ]
        }
      ],
      "source": [
        "set1 = {1, 2, 3, 4, 5}\n",
        "\n",
        "set2 = {1, 2, 3}\n",
        "\n",
        "subset = set2.issubset(set1)\n",
        "superset = set1.issuperset(set2)\n",
        "\n",
        "print(\"Set 1:\", set1)\n",
        "print(\"Set 2:\", set2)\n",
        "\n",
        "print(\"Is set2 a subset of set1\", subset)\n",
        "print(\"Is set1 a superset of set2\", superset)"
      ]
    },
    {
      "cell_type": "markdown",
      "metadata": {
        "id": "PoTv3pif6Wr8"
      },
      "source": [
        "### Assignment 8: Frozenset\n",
        "\n",
        "Create a frozenset with the first 5 positive integers. Print the frozenset."
      ]
    },
    {
      "cell_type": "code",
      "execution_count": 5,
      "metadata": {
        "colab": {
          "base_uri": "https://localhost:8080/"
        },
        "id": "HY9RCK8S6Yb5",
        "outputId": "0a26c501-33d8-47d6-ab90-6d44e518bc42"
      },
      "outputs": [
        {
          "name": "stdout",
          "output_type": "stream",
          "text": [
            "Frozenset: frozenset({1, 2, 3, 4, 5})\n"
          ]
        }
      ],
      "source": [
        "set = frozenset(range(1, 6))\n",
        "\n",
        "print(\"Frozenset:\", set)"
      ]
    },
    {
      "cell_type": "markdown",
      "metadata": {
        "id": "MswuHVST6Y6y"
      },
      "source": [
        "### Assignment 9: Set and List Conversion\n",
        "\n",
        "Create a set with the first 5 positive integers. Convert it to a list, append the number 6, and convert it back to a set. Print the resulting set."
      ]
    },
    {
      "cell_type": "code",
      "execution_count": 11,
      "metadata": {},
      "outputs": [],
      "source": [
        "del set"
      ]
    },
    {
      "cell_type": "code",
      "execution_count": 13,
      "metadata": {
        "colab": {
          "base_uri": "https://localhost:8080/"
        },
        "id": "kQ9yNqlB6cCp",
        "outputId": "080fd015-b893-4aec-9fd7-b5e388ad1e4f"
      },
      "outputs": [
        {
          "name": "stdout",
          "output_type": "stream",
          "text": [
            "set: {1, 2, 3, 4, 5, 6}\n"
          ]
        }
      ],
      "source": [
        "numbers = set(range(1, 6))\n",
        "\n",
        "numbers_list = list(numbers)\n",
        "numbers_list.append(6)\n",
        "\n",
        "updated_set = set(numbers_list)\n",
        "\n",
        "print(\"set:\", updated_set)"
      ]
    },
    {
      "cell_type": "markdown",
      "metadata": {
        "id": "fGOlCBRG6cft"
      },
      "source": [
        "### Assignment 10: Set and Dictionary\n",
        "\n",
        "Create a dictionary with set keys and integer values. Print the dictionary."
      ]
    },
    {
      "cell_type": "code",
      "execution_count": 6,
      "metadata": {
        "colab": {
          "base_uri": "https://localhost:8080/"
        },
        "id": "KH3VrpVZ6epU",
        "outputId": "d7499f0a-20c1-49b9-dc6a-b275def3ff21"
      },
      "outputs": [
        {
          "name": "stdout",
          "output_type": "stream",
          "text": [
            "Frozenset keys:\n",
            "{frozenset({1, 2}): 10, frozenset({3, 4}): 20, frozenset({5, 6}): 30}\n"
          ]
        }
      ],
      "source": [
        "my_dict = {\n",
        "    frozenset({1, 2}): 10,\n",
        "    frozenset({3, 4}): 20,\n",
        "    frozenset({5, 6}): 30\n",
        "}\n",
        "\n",
        "print(\"Frozenset keys:\")\n",
        "print(my_dict)"
      ]
    },
    {
      "cell_type": "markdown",
      "metadata": {
        "id": "9zlCKrQn6fgu"
      },
      "source": [
        "### Assignment 11: Iterating Over Sets\n",
        "\n",
        "Create a set and iterate over the elements, printing each element."
      ]
    },
    {
      "cell_type": "code",
      "execution_count": 14,
      "metadata": {
        "colab": {
          "base_uri": "https://localhost:8080/"
        },
        "id": "L_wgjg1f6hTf",
        "outputId": "bf01bfa6-739f-405d-dbc4-0163b179c770"
      },
      "outputs": [
        {
          "name": "stdout",
          "output_type": "stream",
          "text": [
            "Set elements:\n",
            "1\n",
            "2\n",
            "3\n",
            "4\n",
            "5\n"
          ]
        }
      ],
      "source": [
        "numbers = {1, 2, 3, 4, 5}\n",
        "\n",
        "print(\"Set elements:\")\n",
        "for num in numbers:\n",
        "    print(num)"
      ]
    },
    {
      "cell_type": "markdown",
      "metadata": {
        "id": "cJaJ-E496hv0"
      },
      "source": [
        "### Assignment 12: Removing Elements from Sets\n",
        "\n",
        "Create a set and remove elements from it until it is empty. Print the set after each removal."
      ]
    },
    {
      "cell_type": "code",
      "execution_count": 17,
      "metadata": {
        "colab": {
          "base_uri": "https://localhost:8080/"
        },
        "id": "cCRLsSNj6j1X",
        "outputId": "463816af-61ce-4f66-9ca4-ad8a85491b11"
      },
      "outputs": [
        {
          "name": "stdout",
          "output_type": "stream",
          "text": [
            "Removed: 1, Remaining set: {2, 3, 4, 5}\n",
            "Removed: 2, Remaining set: {3, 4, 5}\n",
            "Removed: 3, Remaining set: {4, 5}\n",
            "Removed: 4, Remaining set: {5}\n",
            "Removed: 5, Remaining set: set()\n"
          ]
        }
      ],
      "source": [
        "numbers = {1, 2, 3, 4, 5}\n",
        "\n",
        "while numbers:\n",
        "    removed = numbers.pop()\n",
        "    print(f\"Removed: {removed}, Remaining set: {numbers}\")"
      ]
    },
    {
      "cell_type": "markdown",
      "metadata": {
        "id": "zaIcrwWv6kXm"
      },
      "source": [
        "### Assignment 13: Set Symmetric Difference Update\n",
        "\n",
        "Create two sets and update the first set with the symmetric difference of the two sets. Print the modified first set."
      ]
    },
    {
      "cell_type": "code",
      "execution_count": 15,
      "metadata": {
        "colab": {
          "base_uri": "https://localhost:8080/"
        },
        "id": "RQ4VTb_R6nmv",
        "outputId": "24b48740-9197-440b-84a0-6307c5359645"
      },
      "outputs": [
        {
          "name": "stdout",
          "output_type": "stream",
          "text": [
            "Modified set: {1, 2, 5, 6}\n"
          ]
        }
      ],
      "source": [
        "set1 = {1, 2, 3, 4}\n",
        "set2 = {3, 4, 5, 6}\n",
        "\n",
        "set1.symmetric_difference_update(set2)\n",
        "\n",
        "print(\"Modified set:\", set1)\n"
      ]
    },
    {
      "cell_type": "markdown",
      "metadata": {
        "id": "cO7j3B-R6oJ3"
      },
      "source": [
        "### Assignment 14: Set Membership Testing\n",
        "\n",
        "Create a set and test if certain elements are present in the set. Print the results."
      ]
    },
    {
      "cell_type": "code",
      "execution_count": 14,
      "metadata": {
        "colab": {
          "base_uri": "https://localhost:8080/"
        },
        "id": "7ioXhpFq6qfI",
        "outputId": "3831ec0b-3c56-417d-d6cd-4add146ce398"
      },
      "outputs": [
        {
          "name": "stdout",
          "output_type": "stream",
          "text": [
            "3 is present in the set.\n",
            "6 is NOT present in the set.\n"
          ]
        }
      ],
      "source": [
        "numbers = {1, 2, 3, 4, 5}\n",
        "\n",
        "check = [3, 6]\n",
        "\n",
        "for num in check:\n",
        "    if num in numbers:\n",
        "        print(f\"{num} is present in the set.\")\n",
        "    else:\n",
        "        print(f\"{num} is NOT present in the set.\")"
      ]
    },
    {
      "cell_type": "markdown",
      "metadata": {
        "id": "RrTeUZrd6rG9"
      },
      "source": [
        "### Assignment 15: Set of Tuples\n",
        "\n",
        "Create a set containing tuples, where each tuple contains two elements. Print the set."
      ]
    },
    {
      "cell_type": "code",
      "execution_count": 15,
      "metadata": {
        "colab": {
          "base_uri": "https://localhost:8080/"
        },
        "id": "FoHJ9_GU6tM3",
        "outputId": "b47684e5-ca62-4313-fee2-0835f34a1039"
      },
      "outputs": [
        {
          "name": "stdout",
          "output_type": "stream",
          "text": [
            "Set of tuples: {(1, 2), (3, 4), (5, 6)}\n"
          ]
        }
      ],
      "source": [
        "pair_set = {(1, 2), (3, 4), (5, 6)}\n",
        "\n",
        "print(\"Set of tuples:\", pair_set)\n"
      ]
    }
  ],
  "metadata": {
    "colab": {
      "provenance": []
    },
    "kernelspec": {
      "display_name": "Python 3",
      "name": "python3"
    },
    "language_info": {
      "codemirror_mode": {
        "name": "ipython",
        "version": 3
      },
      "file_extension": ".py",
      "mimetype": "text/x-python",
      "name": "python",
      "nbconvert_exporter": "python",
      "pygments_lexer": "ipython3",
      "version": "3.9.6"
    }
  },
  "nbformat": 4,
  "nbformat_minor": 0
}
