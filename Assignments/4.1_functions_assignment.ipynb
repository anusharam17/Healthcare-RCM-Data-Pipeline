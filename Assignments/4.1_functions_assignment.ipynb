{
  "cells": [
    {
      "cell_type": "markdown",
      "metadata": {
        "id": "H31KPuuGc8BP"
      },
      "source": [
        "# Module 4: Functions Assignments\n",
        "## Lesson 4.1: Defining Functions\n",
        "### Assignment 1: Simple Function\n",
        "\n",
        "Define a function that takes a single integer as input and returns its square. Test the function with different inputs."
      ]
    },
    {
      "cell_type": "code",
      "execution_count": 1,
      "metadata": {
        "colab": {
          "base_uri": "https://localhost:8080/"
        },
        "id": "2WuOAW-Nc68e",
        "outputId": "5cd92bc8-1774-48ff-bc3f-a78f092234ff"
      },
      "outputs": [
        {
          "name": "stdout",
          "output_type": "stream",
          "text": [
            "289\n"
          ]
        }
      ],
      "source": [
        "def func(num):\n",
        "  return num**2\n",
        "\n",
        "print(func(17))"
      ]
    },
    {
      "cell_type": "markdown",
      "metadata": {
        "id": "AouPCYYnc94t"
      },
      "source": [
        "### Assignment 2: Multiple Arguments\n",
        "\n",
        "Define a function that takes two integers as input and returns their sum. Test the function with different inputs."
      ]
    },
    {
      "cell_type": "code",
      "execution_count": 2,
      "metadata": {
        "colab": {
          "base_uri": "https://localhost:8080/"
        },
        "id": "hhdmwoQQdARG",
        "outputId": "d103d436-9954-4289-b29a-2002b4ff32c7"
      },
      "outputs": [
        {
          "name": "stdout",
          "output_type": "stream",
          "text": [
            "35\n",
            "28\n",
            "27\n"
          ]
        }
      ],
      "source": [
        "def add_numbers(a, b):\n",
        "    return a + b\n",
        "\n",
        "print(add_numbers(17, 18))\n",
        "print(add_numbers(45, -17))\n",
        "print(add_numbers(-18, 45))"
      ]
    },
    {
      "cell_type": "markdown",
      "metadata": {
        "id": "Fw1IX3NtdA8G"
      },
      "source": [
        "### Assignment 3: Default Arguments\n",
        "\n",
        "Define a function that takes two integers as input and returns their sum. The second integer should have a default value of 5. Test the function with different inputs."
      ]
    },
    {
      "cell_type": "code",
      "execution_count": null,
      "metadata": {
        "colab": {
          "base_uri": "https://localhost:8080/"
        },
        "id": "NMRhxVHWdCpQ",
        "outputId": "c74029ee-9a7b-4888-a524-21986f14d1f0"
      },
      "outputs": [
        {
          "name": "stdout",
          "output_type": "stream",
          "text": [
            "15\n",
            "17\n",
            "3\n"
          ]
        }
      ],
      "source": [
        "def add_numbers(a, b=5):\n",
        "    return a + b\n",
        "\n",
        "print(add_numbers(10))\n",
        "print(add_numbers(12))\n",
        "print(add_numbers(-2))"
      ]
    },
    {
      "cell_type": "markdown",
      "metadata": {
        "id": "0PdkyRKVdDSX"
      },
      "source": [
        "### Assignment 4: Keyword Arguments\n",
        "\n",
        "Define a function that takes three named arguments: first_name, last_name, and age, and returns a formatted string. Test the function with different inputs"
      ]
    },
    {
      "cell_type": "code",
      "execution_count": 4,
      "metadata": {
        "colab": {
          "base_uri": "https://localhost:8080/"
        },
        "id": "ETrCXEI4dGDo",
        "outputId": "729ecf04-f6b6-494f-b804-4efa85e24625"
      },
      "outputs": [
        {
          "name": "stdout",
          "output_type": "stream",
          "text": [
            "Vasavi  Anusha is 21 years old.\n",
            "Surya Sumanth is 21 years old.\n",
            "Yogeswara Gupta is 22 years old.\n"
          ]
        }
      ],
      "source": [
        "def func(first_name, last_name, age):\n",
        "    return f\"{first_name} {last_name} is {age} years old.\"\n",
        "\n",
        "print(func(first_name=\"Vasavi \", last_name=\"Anusha\", age=21))\n",
        "print(func(first_name=\"Surya\", last_name=\"Sumanth\", age=21))\n",
        "print(func(first_name=\"Yogeswara\", last_name=\"Gupta\", age=22))"
      ]
    },
    {
      "cell_type": "markdown",
      "metadata": {
        "id": "5rq2hy3YdG2B"
      },
      "source": [
        "### Assignment 5: Variable-length Arguments\n",
        "\n",
        "Define a function that takes a variable number of integer arguments and returns their product. Test the function with different inputs."
      ]
    },
    {
      "cell_type": "code",
      "execution_count": 5,
      "metadata": {
        "colab": {
          "base_uri": "https://localhost:8080/"
        },
        "id": "P4GVXgGpdI2T",
        "outputId": "0761a076-4a2d-49d7-de93-24331cf33bb3"
      },
      "outputs": [
        {
          "name": "stdout",
          "output_type": "stream",
          "text": [
            "306\n",
            "24\n",
            "45\n",
            "1\n"
          ]
        }
      ],
      "source": [
        "def multiply(*args):\n",
        "\n",
        "    product = 1\n",
        "    for num in args:\n",
        "        product *= num\n",
        "    return product\n",
        "\n",
        "print(multiply(17, 18))\n",
        "print(multiply(1, 2, 3, 4))\n",
        "print(multiply(45))\n",
        "print(multiply())\n"
      ]
    },
    {
      "cell_type": "markdown",
      "metadata": {
        "id": "jtZ9mdgEdJaq"
      },
      "source": [
        "### Assignment 6: Nested Functions\n",
        "\n",
        "Define a function that contains another function inside it. The outer function should take two integers as input and return the result of the inner function, which multiplies the two integers. Test the function with different inputs."
      ]
    },
    {
      "cell_type": "code",
      "execution_count": 6,
      "metadata": {
        "colab": {
          "base_uri": "https://localhost:8080/"
        },
        "id": "jbVR0R72dLpR",
        "outputId": "613d6cc3-3f44-44f5-bd64-c8380b70fbf1"
      },
      "outputs": [
        {
          "name": "stdout",
          "output_type": "stream",
          "text": [
            "56\n",
            "20\n",
            "765\n"
          ]
        }
      ],
      "source": [
        "def outer_function(a, b):\n",
        "    def inner_function(x, y):\n",
        "        return x * y\n",
        "    return inner_function(a, b)\n",
        "\n",
        "print(outer_function(7, 8))\n",
        "print(outer_function(4, 5))\n",
        "print(outer_function(17, 45))"
      ]
    },
    {
      "cell_type": "markdown",
      "metadata": {
        "id": "OZgxS_HSdMKk"
      },
      "source": [
        "### Assignment 7: Returning Multiple Values\n",
        "\n",
        "Define a function that takes a single integer as input and returns the integer squared, cubed, and raised to the power of four. Test the function with different inputs."
      ]
    },
    {
      "cell_type": "code",
      "execution_count": 7,
      "metadata": {
        "colab": {
          "base_uri": "https://localhost:8080/"
        },
        "id": "YJqPIUHMdOA9",
        "outputId": "170cf634-c970-4c6d-b38e-7bceef07be43"
      },
      "outputs": [
        {
          "name": "stdout",
          "output_type": "stream",
          "text": [
            "(36, 216, 1296)\n",
            "(49, 343, 2401)\n",
            "(64, 512, 4096)\n",
            "(16, -64, 256)\n"
          ]
        }
      ],
      "source": [
        "def power_func(n):\n",
        "    return n**2, n**3, n**4\n",
        "\n",
        "print(power_func(6))\n",
        "print(power_func(7))\n",
        "print(power_func(8))\n",
        "print(power_func(-4))"
      ]
    },
    {
      "cell_type": "markdown",
      "metadata": {
        "id": "wXZVJgkKdOas"
      },
      "source": [
        "### Assignment 8: Recursive Function\n",
        "\n",
        "Define a recursive function that calculates the factorial of a given number. Test the function with different inputs."
      ]
    },
    {
      "cell_type": "code",
      "execution_count": 8,
      "metadata": {
        "colab": {
          "base_uri": "https://localhost:8080/"
        },
        "id": "goQb3LusdQgs",
        "outputId": "8415eeee-4f78-403e-dd2a-cb20a5eccd4e"
      },
      "outputs": [
        {
          "name": "stdout",
          "output_type": "stream",
          "text": [
            "1\n",
            "1\n",
            "5040\n",
            "479001600\n"
          ]
        }
      ],
      "source": [
        "def fact(n):\n",
        "    if n == 0 or n == 1:\n",
        "        return 1\n",
        "    else:\n",
        "        return n * fact(n - 1)\n",
        "\n",
        "print(fact(0))\n",
        "print(fact(1))\n",
        "print(fact(7))\n",
        "print(fact(12))"
      ]
    },
    {
      "cell_type": "markdown",
      "metadata": {
        "id": "qWC82yfudQ9U"
      },
      "source": [
        "### Assignment 9: Lambda Function\n",
        "\n",
        "Define a lambda function that takes two integers as input and returns their sum. Test the lambda function with different inputs."
      ]
    },
    {
      "cell_type": "code",
      "execution_count": 9,
      "metadata": {
        "colab": {
          "base_uri": "https://localhost:8080/"
        },
        "id": "pYhHQucgdS7j",
        "outputId": "50f203fc-e0d3-4e58-ad79-3007ffe772e2"
      },
      "outputs": [
        {
          "name": "stdout",
          "output_type": "stream",
          "text": [
            "29\n",
            "26\n",
            "1\n",
            "0\n"
          ]
        }
      ],
      "source": [
        "add = lambda a, b: a + b\n",
        "\n",
        "print(add(15, 14))\n",
        "print(add(16, 10))\n",
        "print(add(-4, 5))\n",
        "print(add(0, 0))"
      ]
    },
    {
      "cell_type": "markdown",
      "metadata": {
        "id": "LxL9VTwkdTjP"
      },
      "source": [
        "### Assignment 10: Map Function\n",
        "\n",
        "Use the map function to apply a lambda function that squares each number in a list of integers. Test with different lists."
      ]
    },
    {
      "cell_type": "code",
      "execution_count": null,
      "metadata": {
        "colab": {
          "base_uri": "https://localhost:8080/"
        },
        "id": "M5CReJ85dVf3",
        "outputId": "2bf8b354-9c38-41ec-d06e-9f25e05115d6"
      },
      "outputs": [
        {
          "name": "stdout",
          "output_type": "stream",
          "text": [
            "[1, 4, 9, 16, 25]\n",
            "[36, 49, 64]\n"
          ]
        }
      ],
      "source": [
        "numbers = [1, 2, 3, 4, 5]\n",
        "squared = list(map(lambda x: x**2, numbers))\n",
        "print(squared)\n",
        "\n",
        "numbers2 = [6, 7, 8]\n",
        "squared2 = list(map(lambda x: x**2, numbers2))\n",
        "print(squared2)"
      ]
    },
    {
      "cell_type": "markdown",
      "metadata": {
        "id": "JJH-OI3tdV5q"
      },
      "source": [
        "### Assignment 11: Filter Function\n",
        "\n",
        "Use the filter function to filter out all odd numbers from a list of integers. Test with different lists."
      ]
    },
    {
      "cell_type": "code",
      "execution_count": 10,
      "metadata": {
        "colab": {
          "base_uri": "https://localhost:8080/"
        },
        "id": "ZBcUWTogdX_-",
        "outputId": "a7fde44d-56b2-4bd2-9be7-3930e9e645e3"
      },
      "outputs": [
        {
          "name": "stdout",
          "output_type": "stream",
          "text": [
            "[2, 4, 6]\n",
            "[8, 10]\n"
          ]
        }
      ],
      "source": [
        "numbers = [1, 2, 3, 4, 5, 6]\n",
        "even_numbers = list(filter(lambda x: x % 2 == 0, numbers))\n",
        "print(even_numbers)\n",
        "\n",
        "numbers2 = [7, 8, 9, 10, 11]\n",
        "even_numbers2 = list(filter(lambda x: x % 2 == 0, numbers2))\n",
        "print(even_numbers2)"
      ]
    },
    {
      "cell_type": "markdown",
      "metadata": {
        "id": "ssiGVM_6dYj1"
      },
      "source": [
        "### Assignment 12: Function Decorator\n",
        "\n",
        "Define a decorator function that prints 'Executing function...' before executing a function and 'Function executed.' after executing it. Apply this decorator to a function that takes a list of integers and returns their sum. Test the decorated function with different lists."
      ]
    },
    {
      "cell_type": "code",
      "execution_count": 1,
      "metadata": {
        "colab": {
          "base_uri": "https://localhost:8080/"
        },
        "id": "1uhrxVXAdaZq",
        "outputId": "27bc17f8-809b-4967-e122-0123e6f43f5a"
      },
      "outputs": [
        {
          "name": "stdout",
          "output_type": "stream",
          "text": [
            "Executing function\n",
            "Function executed\n",
            "6\n",
            "Executing function\n",
            "Function executed\n",
            "10\n"
          ]
        }
      ],
      "source": [
        "def decorator_func(func):\n",
        "    def wrapper_func(lst):\n",
        "        print(\"Executing function\")\n",
        "        result = func(lst)\n",
        "        print(\"Function executed\")\n",
        "        return result\n",
        "    return wrapper_func\n",
        "\n",
        "@decorator_func\n",
        "def add_numbers(lst):\n",
        "    return sum(lst)\n",
        "\n",
        "print(add_numbers([1, 2, 3]))\n",
        "print(add_numbers([5, 5]))"
      ]
    },
    {
      "cell_type": "markdown",
      "metadata": {
        "id": "OrG0HRd7dbBa"
      },
      "source": [
        "### Assignment 13: Function with *args and **kwargs\n",
        "\n",
        "Define a function that takes variable-length arguments and keyword arguments and prints them. Test the function with different inputs."
      ]
    },
    {
      "cell_type": "code",
      "execution_count": 2,
      "metadata": {
        "colab": {
          "base_uri": "https://localhost:8080/"
        },
        "id": "ikteXD8_ddEl",
        "outputId": "ac7cdf65-9617-450f-915a-55b99f78374e"
      },
      "outputs": [
        {
          "name": "stdout",
          "output_type": "stream",
          "text": [
            "Positional arguments: (1, 2, 3)\n",
            "Keyword arguments: {'a': 10, 'b': 20}\n",
            "Positional arguments: ('apple', 'banana')\n",
            "Keyword arguments: {'fruit': 'mango', 'quantity': 3}\n",
            "Positional arguments: ()\n",
            "Keyword arguments: {}\n"
          ]
        }
      ],
      "source": [
        "def func_args_kwargs(*args, **kwargs):\n",
        "    print(\"Positional arguments:\", args)\n",
        "    print(\"Keyword arguments:\", kwargs)\n",
        "\n",
        "\n",
        "func_args_kwargs(1, 2, 3, a=10, b=20)\n",
        "\n",
        "func_args_kwargs('apple', 'banana', fruit='mango', quantity=3)\n",
        "func_args_kwargs()"
      ]
    },
    {
      "cell_type": "markdown",
      "metadata": {
        "id": "8P7I52VEddqZ"
      },
      "source": [
        "### Assignment 14: Higher-Order Function\n",
        "\n",
        "Define a higher-order function that takes a function and a list of integers as arguments, and applies the function to each integer in the list. Test with different functions and lists."
      ]
    },
    {
      "cell_type": "code",
      "execution_count": null,
      "metadata": {
        "colab": {
          "base_uri": "https://localhost:8080/"
        },
        "id": "GAP8YtYkdgBB",
        "outputId": "4b653e27-a371-45cf-f51d-d1d4a2588323"
      },
      "outputs": [
        {
          "name": "stdout",
          "output_type": "stream",
          "text": [
            "[1, 4, 9]\n",
            "[8, 10, 12]\n"
          ]
        }
      ],
      "source": [
        "def funct(func, numbers):\n",
        "    return [func(x) for x in numbers]\n",
        "\n",
        "def square(x):\n",
        "    return x ** 2\n",
        "\n",
        "def double(x):\n",
        "    return x * 2\n",
        "\n",
        "print(funct(square, [1, 2, 3]))\n",
        "print(funct(double, [4, 5, 6]))\n"
      ]
    },
    {
      "cell_type": "markdown",
      "metadata": {
        "id": "163KfevpdgXH"
      },
      "source": [
        "### Assignment 15: Function Documentation\n",
        "\n",
        "Define a function with a docstring that explains what the function does, its parameters, and its return value. Print the function's docstring."
      ]
    },
    {
      "cell_type": "code",
      "execution_count": null,
      "metadata": {
        "colab": {
          "base_uri": "https://localhost:8080/"
        },
        "id": "JMgk8ofDdiQm",
        "outputId": "b36e0474-df79-495d-f2e0-68a775c390cd"
      },
      "outputs": [
        {
          "name": "stdout",
          "output_type": "stream",
          "text": [
            "\n",
            "    Multiplies two numbers and returns the result.\n",
            "\n",
            "    Parameters:\n",
            "    a : The first number.\n",
            "    b : The second number.\n",
            "\n",
            "    Returns:\n",
            "    The product of a and b.\n",
            "    \n"
          ]
        }
      ],
      "source": [
        "def multiply(a, b):\n",
        "    \"\"\"\n",
        "    Multiplies two numbers and returns the result.\n",
        "\n",
        "    Parameters:\n",
        "    a : The first number.\n",
        "    b : The second number.\n",
        "\n",
        "    Returns:\n",
        "    The product of a and b.\n",
        "    \"\"\"\n",
        "    return a * b\n",
        "\n",
        "print(multiply.__doc__)\n"
      ]
    }
  ],
  "metadata": {
    "colab": {
      "provenance": []
    },
    "kernelspec": {
      "display_name": "Python 3",
      "name": "python3"
    },
    "language_info": {
      "codemirror_mode": {
        "name": "ipython",
        "version": 3
      },
      "file_extension": ".py",
      "mimetype": "text/x-python",
      "name": "python",
      "nbconvert_exporter": "python",
      "pygments_lexer": "ipython3",
      "version": "3.9.6"
    }
  },
  "nbformat": 4,
  "nbformat_minor": 0
}
