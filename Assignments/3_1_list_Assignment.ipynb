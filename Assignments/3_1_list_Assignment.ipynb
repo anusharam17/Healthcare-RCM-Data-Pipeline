{
  "cells": [
    {
      "cell_type": "markdown",
      "metadata": {
        "id": "i-2ttsJ7uffT"
      },
      "source": [
        "# Module 3: Data Structures Assignments\n",
        "## Lesson 3.1: Lists\n",
        "### Assignment 1: Creating and Accessing Lists\n",
        "\n",
        "Create a list of the first 20 positive integers. Print the list.\n"
      ],
      "id": "i-2ttsJ7uffT"
    },
    {
      "cell_type": "code",
      "execution_count": 1,
      "metadata": {
        "id": "tiRQfpTxuffX",
        "colab": {
          "base_uri": "https://localhost:8080/"
        },
        "outputId": "9b5e8ad6-158e-4354-f005-dfabdebdc686"
      },
      "outputs": [
        {
          "output_type": "execute_result",
          "data": {
            "text/plain": [
              "[1, 2, 3, 4, 5, 6, 7, 8, 9, 10, 11, 12, 13, 14, 15, 16, 17, 18, 19, 20]"
            ]
          },
          "metadata": {},
          "execution_count": 1
        }
      ],
      "source": [
        "num = list(range(1, 21))\n",
        "num"
      ],
      "id": "tiRQfpTxuffX"
    },
    {
      "cell_type": "markdown",
      "source": [
        "### Assignment 2: Accessing List Elements\n",
        "\n",
        "Print the first, middle, and last elements of the list created in Assignment 1."
      ],
      "metadata": {
        "id": "3ZSoodJZ2PmJ"
      },
      "id": "3ZSoodJZ2PmJ"
    },
    {
      "cell_type": "code",
      "source": [
        "num=list(range(1,21))\n",
        "print(num[0])\n",
        "print(num[len(num) // 2 -1])\n",
        "print(num[-1])"
      ],
      "metadata": {
        "colab": {
          "base_uri": "https://localhost:8080/"
        },
        "id": "dnQ0-qD-2LwN",
        "outputId": "04203f75-9acf-4809-9fed-edafde8c4a07"
      },
      "id": "dnQ0-qD-2LwN",
      "execution_count": 3,
      "outputs": [
        {
          "output_type": "stream",
          "name": "stdout",
          "text": [
            "First element: 1\n",
            "Middle element: 10\n",
            "Last element: 20\n"
          ]
        }
      ]
    },
    {
      "cell_type": "markdown",
      "source": [
        "### Assignment 3: List Slicing\n",
        "\n",
        "Print the first five elements, the last five elements, and the elements from index 5 to 15 of the list created in Assignment 1."
      ],
      "metadata": {
        "id": "ExrOnS7r4dS1"
      },
      "id": "ExrOnS7r4dS1"
    },
    {
      "cell_type": "code",
      "source": [
        "num=list(range(1,21))\n",
        "print(num[:5])\n",
        "print(num[-5:])\n",
        "print(num[5:16])"
      ],
      "metadata": {
        "colab": {
          "base_uri": "https://localhost:8080/"
        },
        "id": "e_nPcNWH4MSL",
        "outputId": "0604a5a4-eb57-4c60-bf98-6aae2dd78e87"
      },
      "id": "e_nPcNWH4MSL",
      "execution_count": 4,
      "outputs": [
        {
          "output_type": "stream",
          "name": "stdout",
          "text": [
            "[1, 2, 3, 4, 5]\n",
            "[16, 17, 18, 19, 20]\n",
            "[6, 7, 8, 9, 10, 11, 12, 13, 14, 15, 16]\n"
          ]
        }
      ]
    },
    {
      "cell_type": "markdown",
      "source": [
        "### Assignment 4: List Comprehensions\n",
        "\n",
        "Create a new list containing the squares of the first 10 positive integers using a list comprehension. Print the new list."
      ],
      "metadata": {
        "id": "oJ2RuPzW4sdr"
      },
      "id": "oJ2RuPzW4sdr"
    },
    {
      "cell_type": "code",
      "source": [
        "num = [n**2 for n in range(1,11)]\n",
        "print(num)\n"
      ],
      "metadata": {
        "colab": {
          "base_uri": "https://localhost:8080/"
        },
        "id": "rCongaJ44pXy",
        "outputId": "5adb20a5-51b2-4c06-c2e6-c06b8e6e15f5"
      },
      "id": "rCongaJ44pXy",
      "execution_count": 6,
      "outputs": [
        {
          "output_type": "stream",
          "name": "stdout",
          "text": [
            "[1, 4, 9, 16, 25, 36, 49, 64, 81, 100]\n"
          ]
        }
      ]
    },
    {
      "cell_type": "markdown",
      "source": [
        "### Assignment 5: Filtering Lists\n",
        "\n",
        "Create a new list containing only the even numbers from the list created in Assignment 1 using a list comprehension. Print the new list."
      ],
      "metadata": {
        "id": "1PrOSyg55ME4"
      },
      "id": "1PrOSyg55ME4"
    },
    {
      "cell_type": "code",
      "source": [
        "num = list(range(1,21))\n",
        "even = [n for n in num if n % 2 == 0]\n",
        "print(even)"
      ],
      "metadata": {
        "colab": {
          "base_uri": "https://localhost:8080/"
        },
        "id": "wqAG0s0X40Yi",
        "outputId": "7165aeba-979e-4a82-dd3a-8e002a432f55"
      },
      "id": "wqAG0s0X40Yi",
      "execution_count": 7,
      "outputs": [
        {
          "output_type": "stream",
          "name": "stdout",
          "text": [
            "[2, 4, 6, 8, 10, 12, 14, 16, 18, 20]\n"
          ]
        }
      ]
    },
    {
      "cell_type": "markdown",
      "source": [
        "### Assignment 6: List Methods\n",
        "\n",
        "Create a list of random numbers and sort it in ascending and descending order. Remove the duplicates from the list and print the modified list."
      ],
      "metadata": {
        "id": "G2y3recI5tnI"
      },
      "id": "G2y3recI5tnI"
    },
    {
      "cell_type": "code",
      "source": [
        "num = [45,17,18,8,13,30,17,45]\n",
        "num = list(dict.fromkeys(num))\n",
        "print(\"Remove Duplicates:\")\n",
        "print(num)\n",
        "num.sort()\n",
        "print(\"Ascending Order:\")\n",
        "print(num)\n",
        "num.sort(reverse=True)\n",
        "print(\"Decending Order:\")\n",
        "print(num)\n"
      ],
      "metadata": {
        "colab": {
          "base_uri": "https://localhost:8080/"
        },
        "id": "Yotlsa_65rKj",
        "outputId": "599046d5-a86b-470d-f9c8-bfeacc73c585"
      },
      "id": "Yotlsa_65rKj",
      "execution_count": 15,
      "outputs": [
        {
          "output_type": "stream",
          "name": "stdout",
          "text": [
            "Remove Duplicates:\n",
            "[45, 17, 18, 8, 13, 30]\n",
            "Ascending Order:\n",
            "[8, 13, 17, 18, 30, 45]\n",
            "Decending Order:\n",
            "[45, 30, 18, 17, 13, 8]\n"
          ]
        }
      ]
    },
    {
      "cell_type": "markdown",
      "source": [
        "### Assignment 7: Nested Lists\n",
        "\n",
        "Create a nested list representing a 3x3 matrix and print the matrix. Access and print the element at the second row and third column."
      ],
      "metadata": {
        "id": "ov50fYb16_bo"
      },
      "id": "ov50fYb16_bo"
    },
    {
      "cell_type": "code",
      "source": [
        "matrix = [[1, 2, 3],\n",
        "          [4, 5, 6],\n",
        "          [7, 8, 9]]\n",
        "print(matrix)\n",
        "element = matrix[1][2]\n",
        "element"
      ],
      "metadata": {
        "colab": {
          "base_uri": "https://localhost:8080/"
        },
        "id": "CgNKFmV56FCl",
        "outputId": "dabf474e-dbe8-4c31-e339-139ca11b642a"
      },
      "id": "CgNKFmV56FCl",
      "execution_count": 16,
      "outputs": [
        {
          "output_type": "stream",
          "name": "stdout",
          "text": [
            "[[1, 2, 3], [4, 5, 6], [7, 8, 9]]\n"
          ]
        },
        {
          "output_type": "execute_result",
          "data": {
            "text/plain": [
              "6"
            ]
          },
          "metadata": {},
          "execution_count": 16
        }
      ]
    },
    {
      "cell_type": "markdown",
      "source": [
        "### Assignment 8: List of Dictionaries\n",
        "\n",
        "Create a list of dictionaries where each dictionary represents a student with keys 'name' and 'score'. Sort the list of dictionaries by the 'score' in descending order and print the sorted list."
      ],
      "metadata": {
        "id": "dLhUmENE7tST"
      },
      "id": "dLhUmENE7tST"
    },
    {
      "cell_type": "code",
      "source": [
        "students = [\n",
        "    {'name': 'Anusha', 'score': 95},\n",
        "    {'name': 'Sumanth', 'score': 92},\n",
        "    {'name': 'Gupta', 'score': 88},\n",
        "    {'name': 'Harshitha', 'score': 85},\n",
        "    {'name': 'Alekhya', 'score': 78}\n",
        "]\n",
        "\n",
        "sort = sorted(students, key=lambda x: x['score'], reverse=True)\n",
        "\n",
        "sort\n"
      ],
      "metadata": {
        "colab": {
          "base_uri": "https://localhost:8080/"
        },
        "id": "4Z-6K2NQ7tsh",
        "outputId": "f5733f51-3fea-411b-b30a-f3dfe311b70d"
      },
      "id": "4Z-6K2NQ7tsh",
      "execution_count": 17,
      "outputs": [
        {
          "output_type": "execute_result",
          "data": {
            "text/plain": [
              "[{'name': 'Anusha', 'score': 95},\n",
              " {'name': 'Sumanth', 'score': 92},\n",
              " {'name': 'Gupta', 'score': 88},\n",
              " {'name': 'Harshitha', 'score': 85},\n",
              " {'name': 'Alekhya', 'score': 78}]"
            ]
          },
          "metadata": {},
          "execution_count": 17
        }
      ]
    },
    {
      "cell_type": "markdown",
      "source": [
        "### Assignment 9: Matrix Transposition\n",
        "\n",
        "Write a function that takes a 3x3 matrix (nested list) as input and returns its transpose. Print the original and transposed matrices.\n"
      ],
      "metadata": {
        "id": "QTeSq7ZT8XDu"
      },
      "id": "QTeSq7ZT8XDu"
    },
    {
      "cell_type": "code",
      "source": [
        "def transpose_matrix(matrix):\n",
        "\n",
        "  matrix = [[1, 2, 3],\n",
        "            [4, 5, 6],\n",
        "            [7, 8, 9]]\n",
        "\n",
        "  transposed = [[0 for _ in range(len(matrix))] for _ in range(len(matrix[0]))]\n",
        "  for i in range(len(matrix)):\n",
        "    for j in range(len(matrix[0])):\n",
        "      transposed[j][i] = matrix[i][j]\n",
        "  return transposed\n",
        "\n",
        "print(\"Original Matrix:\")\n",
        "for row in matrix:\n",
        "  print(row)\n",
        "\n",
        "transposed_matrix = transpose_matrix(matrix)\n",
        "\n",
        "print(\"\\nTransposed Matrix:\")\n",
        "for row in transposed_matrix:\n",
        "  print(row)\n"
      ],
      "metadata": {
        "colab": {
          "base_uri": "https://localhost:8080/"
        },
        "id": "rFbKSTTB8TdI",
        "outputId": "dd1b0ea5-56f1-491b-f228-e5ce1b992911"
      },
      "id": "rFbKSTTB8TdI",
      "execution_count": 20,
      "outputs": [
        {
          "output_type": "stream",
          "name": "stdout",
          "text": [
            "Original Matrix:\n",
            "[1, 2, 3]\n",
            "[4, 5, 6]\n",
            "[7, 8, 9]\n",
            "\n",
            "Transposed Matrix:\n",
            "[1, 4, 7]\n",
            "[2, 5, 8]\n",
            "[3, 6, 9]\n"
          ]
        }
      ]
    },
    {
      "cell_type": "markdown",
      "source": [
        "### Assignment 10: Flattening a Nested List\n",
        "\n",
        "Write a function that takes a nested list and flattens it into a single list. Print the original and flattened lists.\n"
      ],
      "metadata": {
        "id": "WCixg1z6_Lxz"
      },
      "id": "WCixg1z6_Lxz"
    },
    {
      "cell_type": "code",
      "source": [
        "def flatten(nested):\n",
        "    flattened = [item for n in nested for item in n]\n",
        "    return flattened\n",
        "\n",
        "nested = [[17, 45], [18, 12], [13, 30]]\n",
        "\n",
        "flattened = flatten(nested)\n",
        "\n",
        "print(\"Original :\", nested)\n",
        "print(\"Flattened:\", flattened)"
      ],
      "metadata": {
        "colab": {
          "base_uri": "https://localhost:8080/"
        },
        "id": "h2DL1bYu-mmn",
        "outputId": "539d1aa4-478d-469c-d4d1-85f48e20b4ad"
      },
      "id": "h2DL1bYu-mmn",
      "execution_count": 24,
      "outputs": [
        {
          "output_type": "stream",
          "name": "stdout",
          "text": [
            "Original : [[17, 45], [18, 12], [13, 30]]\n",
            "Flattened: [17, 45, 18, 12, 13, 30]\n"
          ]
        }
      ]
    },
    {
      "cell_type": "markdown",
      "source": [
        "### Assignment 11: List Manipulation\n",
        "\n",
        "Create a list of the first 10 positive integers. Remove the elements at indices 2, 4, and 6, and insert the element '99' at index 5. Print the modified list."
      ],
      "metadata": {
        "id": "gk1VRXQGBSlQ"
      },
      "id": "gk1VRXQGBSlQ"
    },
    {
      "cell_type": "code",
      "source": [
        "list = list(range(1, 11))\n",
        "print(\"Original list:\", list)\n",
        "\n",
        "remove = [6, 4, 2]\n",
        "for index in remove:\n",
        "    list.pop(index)\n",
        "\n",
        "list.insert(5, 99)\n",
        "\n",
        "print(\"Modified list:\", list)\n"
      ],
      "metadata": {
        "colab": {
          "base_uri": "https://localhost:8080/"
        },
        "id": "Iqf8LfNwBVPh",
        "outputId": "2a0fc36f-eda3-47e7-be12-7d1f8d16c781"
      },
      "id": "Iqf8LfNwBVPh",
      "execution_count": 25,
      "outputs": [
        {
          "output_type": "stream",
          "name": "stdout",
          "text": [
            "Original list: [1, 2, 3, 4, 5, 6, 7, 8, 9, 10]\n",
            "Modified list: [1, 2, 4, 6, 8, 99, 9, 10]\n"
          ]
        }
      ]
    },
    {
      "cell_type": "code",
      "source": [
        "del list\n"
      ],
      "metadata": {
        "id": "zFsqvqUvEkGy"
      },
      "id": "zFsqvqUvEkGy",
      "execution_count": 35,
      "outputs": []
    },
    {
      "cell_type": "markdown",
      "source": [
        "### Assignment 12: List Zipping\n",
        "\n",
        "Create two lists of the same length. Use the `zip` function to combine these lists into a list of tuples and print the result."
      ],
      "metadata": {
        "id": "lnLlJb_PCf1-"
      },
      "id": "lnLlJb_PCf1-"
    },
    {
      "cell_type": "code",
      "source": [
        "list1 = ['Sumanth', 'Anusha', 'Gupta']\n",
        "list2 = [45, 17, 18]\n",
        "result = list(zip(list1, list2))\n",
        "print(result)\n"
      ],
      "metadata": {
        "colab": {
          "base_uri": "https://localhost:8080/"
        },
        "id": "PyvGi02_CcD4",
        "outputId": "60e9dd90-2be5-4e07-d6ef-2297bb793ef0"
      },
      "id": "PyvGi02_CcD4",
      "execution_count": 37,
      "outputs": [
        {
          "output_type": "stream",
          "name": "stdout",
          "text": [
            "[('Sumanth', 45), ('Anusha', 17), ('Gupta', 18)]\n"
          ]
        }
      ]
    },
    {
      "cell_type": "markdown",
      "source": [
        "### Assignment 13: List Reversal\n",
        "\n",
        "Write a function that takes a list and returns a new list with the elements in reverse order. Print the original and reversed lists.\n"
      ],
      "metadata": {
        "id": "awfgRlpxEzlz"
      },
      "id": "awfgRlpxEzlz"
    },
    {
      "cell_type": "code",
      "source": [
        "def reverse(input):\n",
        "  original= [1, 2, 3, 4, 5]\n",
        "  return input[::-1]\n",
        "  reversed= reverse(original)\n",
        "print(\"Original List:\", original)\n",
        "print(\"Reversed List:\", reversed)\n"
      ],
      "metadata": {
        "colab": {
          "base_uri": "https://localhost:8080/"
        },
        "id": "Q_TDaxfgC6n8",
        "outputId": "b6b3f6ce-adf7-4b17-c4e6-3271d846bb3b"
      },
      "id": "Q_TDaxfgC6n8",
      "execution_count": 41,
      "outputs": [
        {
          "output_type": "stream",
          "name": "stdout",
          "text": [
            "Original List: [1, 2, 3, 4, 5]\n",
            "Reversed List: [5, 4, 3, 2, 1]\n"
          ]
        }
      ]
    },
    {
      "cell_type": "markdown",
      "source": [
        "### Assignment 14: List Rotation\n",
        "\n",
        "Write a function that rotates a list by n positions. Print the original and rotated lists."
      ],
      "metadata": {
        "id": "kz6c14wMFaRm"
      },
      "id": "kz6c14wMFaRm"
    },
    {
      "cell_type": "code",
      "source": [
        "def rotate_list(a, n):\n",
        "    rotated = a[n:] + a[:n]\n",
        "    print(\"Original:\", a)\n",
        "    print(\"Rotated:\", rotated)\n",
        "\n",
        "rotate_list([17, 45, 18, 13, 30,8], 2)\n"
      ],
      "metadata": {
        "colab": {
          "base_uri": "https://localhost:8080/"
        },
        "id": "2F7FGZNGFIMX",
        "outputId": "05001c13-3871-4bc2-a0d3-634d1e4ab665"
      },
      "id": "2F7FGZNGFIMX",
      "execution_count": 54,
      "outputs": [
        {
          "output_type": "stream",
          "name": "stdout",
          "text": [
            "Original: [17, 45, 18, 13, 30, 8]\n",
            "Rotated: [18, 13, 30, 8, 17, 45]\n"
          ]
        }
      ]
    },
    {
      "cell_type": "markdown",
      "source": [
        "### Assignment 15: List Intersection\n",
        "\n",
        "Write a function that takes two lists and returns a new list containing only the elements that are present in both lists. Print the intersected list."
      ],
      "metadata": {
        "id": "gwso4WfmG05o"
      },
      "id": "gwso4WfmG05o"
    },
    {
      "cell_type": "code",
      "source": [
        "def intersection(list1, list2):\n",
        "    return list(set(list1) & set(list2))\n",
        "a = [1, 2, 3, 4, 5]\n",
        "b = [4, 5, 6, 7]\n",
        "result = intersection(a, b)\n",
        "print(\"List 1:\", a)\n",
        "print(\"List 2:\", b)\n",
        "print(\"Intersection:\", result)\n"
      ],
      "metadata": {
        "colab": {
          "base_uri": "https://localhost:8080/"
        },
        "id": "KNT8usHuFx4J",
        "outputId": "892b81d3-b352-4227-9a86-176de5be9289"
      },
      "id": "KNT8usHuFx4J",
      "execution_count": 57,
      "outputs": [
        {
          "output_type": "stream",
          "name": "stdout",
          "text": [
            "List 1: [1, 2, 3, 4, 5]\n",
            "List 2: [4, 5, 6, 7]\n",
            "Intersection: [4, 5]\n"
          ]
        }
      ]
    }
  ],
  "metadata": {
    "kernelspec": {
      "display_name": "Python 3",
      "language": "python",
      "name": "python3"
    },
    "language_info": {
      "codemirror_mode": {
        "name": "ipython",
        "version": 3
      },
      "file_extension": ".py",
      "mimetype": "text/x-python",
      "name": "python",
      "nbconvert_exporter": "python",
      "pygments_lexer": "ipython3",
      "version": "3.9.7"
    },
    "colab": {
      "provenance": []
    }
  },
  "nbformat": 4,
  "nbformat_minor": 5
}